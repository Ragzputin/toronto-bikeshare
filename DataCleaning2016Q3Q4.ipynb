{
 "cells": [
  {
   "cell_type": "markdown",
   "metadata": {},
   "source": [
    "# Data Cleaning of 2016 Q3/Q4 Datasets "
   ]
  },
  {
   "cell_type": "code",
   "execution_count": 28,
   "metadata": {},
   "outputs": [],
   "source": [
    "import numpy as np\n",
    "import pandas as pd\n",
    "import matplotlib.pyplot as plt\n",
    "%matplotlib inline\n",
    "# This will ignore the warnings\n",
    "import warnings\n",
    "warnings.filterwarnings(\"ignore\")\n",
    "\n",
    "# Our temporal data types\n",
    "from datetime import datetime\n",
    "from datetime import timedelta\n",
    "\n",
    "t2016Q4 = pd.read_excel('2016_Bike_Share_Toronto_Ridership_Q4.xlsx',\\\n",
    "                    names=['trip_id','start','end','duration','from','to','user_type'])\n",
    "\n",
    "t2016Q3 = pd.read_excel('2016_Bike_Share_Toronto_Ridership_Q3.xlsx',\n",
    "                       names=['trip_id','start','end','duration','from','to','user_type'])"
   ]
  },
  {
   "cell_type": "code",
   "execution_count": 30,
   "metadata": {},
   "outputs": [],
   "source": [
    "t2016Q4.set_index(['trip_id'],inplace=True)"
   ]
  },
  {
   "cell_type": "code",
   "execution_count": 31,
   "metadata": {},
   "outputs": [],
   "source": [
    "t2016Q4['start'] = pd.to_datetime(t2016Q4['start'])\n",
    "t2016Q3['start'] = pd.to_datetime(t2016Q3['start'])"
   ]
  },
  {
   "cell_type": "code",
   "execution_count": 32,
   "metadata": {},
   "outputs": [],
   "source": [
    "t2016Q4['end'] = pd.to_datetime(t2016Q4['end'])\n",
    "t2016Q3['end'] = pd.to_datetime(t2016Q3['end'])"
   ]
  },
  {
   "cell_type": "code",
   "execution_count": 33,
   "metadata": {
    "scrolled": false
   },
   "outputs": [
    {
     "data": {
      "text/html": [
       "<div>\n",
       "<style scoped>\n",
       "    .dataframe tbody tr th:only-of-type {\n",
       "        vertical-align: middle;\n",
       "    }\n",
       "\n",
       "    .dataframe tbody tr th {\n",
       "        vertical-align: top;\n",
       "    }\n",
       "\n",
       "    .dataframe thead th {\n",
       "        text-align: right;\n",
       "    }\n",
       "</style>\n",
       "<table border=\"1\" class=\"dataframe\">\n",
       "  <thead>\n",
       "    <tr style=\"text-align: right;\">\n",
       "      <th></th>\n",
       "      <th>start</th>\n",
       "      <th>end</th>\n",
       "      <th>duration</th>\n",
       "      <th>from</th>\n",
       "      <th>to</th>\n",
       "      <th>user_type</th>\n",
       "    </tr>\n",
       "    <tr>\n",
       "      <th>trip_id</th>\n",
       "      <th></th>\n",
       "      <th></th>\n",
       "      <th></th>\n",
       "      <th></th>\n",
       "      <th></th>\n",
       "      <th></th>\n",
       "    </tr>\n",
       "  </thead>\n",
       "  <tbody>\n",
       "    <tr>\n",
       "      <th>462305</th>\n",
       "      <td>2016-01-10 00:00:00</td>\n",
       "      <td>2016-01-10 00:07:00</td>\n",
       "      <td>394</td>\n",
       "      <td>Queens Quay W / Dan Leckie Way</td>\n",
       "      <td>Fort York Blvd / Garrison Rd</td>\n",
       "      <td>Casual</td>\n",
       "    </tr>\n",
       "    <tr>\n",
       "      <th>462306</th>\n",
       "      <td>2016-01-10 00:00:00</td>\n",
       "      <td>2016-01-10 00:09:00</td>\n",
       "      <td>533</td>\n",
       "      <td>Sherbourne St / Wellesley St</td>\n",
       "      <td>Edward St / Yonge St</td>\n",
       "      <td>Member</td>\n",
       "    </tr>\n",
       "    <tr>\n",
       "      <th>462307</th>\n",
       "      <td>2016-01-10 00:00:00</td>\n",
       "      <td>2016-01-10 00:07:00</td>\n",
       "      <td>383</td>\n",
       "      <td>Queens Quay W / Dan Leckie Way</td>\n",
       "      <td>Fort York Blvd / Garrison Rd</td>\n",
       "      <td>Casual</td>\n",
       "    </tr>\n",
       "    <tr>\n",
       "      <th>462308</th>\n",
       "      <td>2016-01-10 00:01:00</td>\n",
       "      <td>2016-01-10 00:27:00</td>\n",
       "      <td>1557</td>\n",
       "      <td>Cherry St / Distillery Ln</td>\n",
       "      <td>Fort York  Blvd / Capreol Crt</td>\n",
       "      <td>Casual</td>\n",
       "    </tr>\n",
       "    <tr>\n",
       "      <th>462309</th>\n",
       "      <td>2016-01-10 00:01:00</td>\n",
       "      <td>2016-01-10 00:27:00</td>\n",
       "      <td>1547</td>\n",
       "      <td>Cherry St / Distillery Ln</td>\n",
       "      <td>Fort York  Blvd / Capreol Crt</td>\n",
       "      <td>Casual</td>\n",
       "    </tr>\n",
       "  </tbody>\n",
       "</table>\n",
       "</div>"
      ],
      "text/plain": [
       "                      start                 end  duration  \\\n",
       "trip_id                                                     \n",
       "462305  2016-01-10 00:00:00 2016-01-10 00:07:00       394   \n",
       "462306  2016-01-10 00:00:00 2016-01-10 00:09:00       533   \n",
       "462307  2016-01-10 00:00:00 2016-01-10 00:07:00       383   \n",
       "462308  2016-01-10 00:01:00 2016-01-10 00:27:00      1557   \n",
       "462309  2016-01-10 00:01:00 2016-01-10 00:27:00      1547   \n",
       "\n",
       "                                   from                             to  \\\n",
       "trip_id                                                                  \n",
       "462305   Queens Quay W / Dan Leckie Way   Fort York Blvd / Garrison Rd   \n",
       "462306     Sherbourne St / Wellesley St           Edward St / Yonge St   \n",
       "462307   Queens Quay W / Dan Leckie Way   Fort York Blvd / Garrison Rd   \n",
       "462308        Cherry St / Distillery Ln  Fort York  Blvd / Capreol Crt   \n",
       "462309        Cherry St / Distillery Ln  Fort York  Blvd / Capreol Crt   \n",
       "\n",
       "        user_type  \n",
       "trip_id            \n",
       "462305     Casual  \n",
       "462306     Member  \n",
       "462307     Casual  \n",
       "462308     Casual  \n",
       "462309     Casual  "
      ]
     },
     "execution_count": 33,
     "metadata": {},
     "output_type": "execute_result"
    }
   ],
   "source": [
    "t2016Q4.head()"
   ]
  },
  {
   "cell_type": "code",
   "execution_count": 45,
   "metadata": {},
   "outputs": [
    {
     "name": "stdout",
     "output_type": "stream",
     "text": [
      "original start time = 2016-01-10 00:00:00\n",
      "new_start_time = 2016-04-10 21:22:00\n"
     ]
    }
   ],
   "source": [
    "#Finding relative indices in our dataframe\n",
    "start_index = t2016Q4.index[0]\n",
    "offset = 15000\n",
    "\n",
    "original_start_time = t2016Q4['start'][start_index]\n",
    "print(\"original start time =\",original_start_time)\n",
    "new_index = start_index + offset\n",
    "new_start_time = t2016Q4['start'][new_index]\n",
    "print(\"new_start_time =\",new_start_time)"
   ]
  },
  {
   "cell_type": "code",
   "execution_count": null,
   "metadata": {},
   "outputs": [],
   "source": []
  },
  {
   "cell_type": "code",
   "execution_count": 66,
   "metadata": {},
   "outputs": [
    {
     "data": {
      "text/plain": [
       "trip_id\n",
       "462305   2016-01-10 00:00:00\n",
       "462306   2016-01-10 00:00:00\n",
       "462307   2016-01-10 00:00:00\n",
       "462308   2016-01-10 00:01:00\n",
       "462309   2016-01-10 00:01:00\n",
       "Name: start, dtype: datetime64[ns]"
      ]
     },
     "execution_count": 66,
     "metadata": {},
     "output_type": "execute_result"
    }
   ],
   "source": [
    "#Cleaning the data using a function called data_cleaning()\n",
    "def data_cleaning(didx, cidx, dtime):\n",
    "    month = dtime.dt.month\n",
    "    day = dtime.dt.day\n",
    "    \n",
    "    if (month < 10 or month > 12) or \\\n",
    "    (month == 10 and (day == 11 or day == 12) and ) or \\\n",
    "    (month == 11 and (day == 10 or day == 12)) or \\\n",
    "    (month == 12 and (day == 10 or day == 11)):\n",
    "        day, month = swap(day,month)\n",
    "    \n",
    "\n",
    "def swap(day,month):\n",
    "    temp = day\n",
    "    day = month\n",
    "    month = day\n",
    "    return day, month\n",
    "\n",
    "for idx, item in t2016Q4['start']:\n",
    "    #pass in current index as well as an index\n",
    "    #that's 15000 rows from current index\n",
    "    offset = 15000\n",
    "    comp_idx = idx + offset\n",
    "    comp_item = t2016Q4[]\n",
    "    data_cleaning(idx, comp_idx, item)"
   ]
  },
  {
   "cell_type": "code",
   "execution_count": null,
   "metadata": {},
   "outputs": [],
   "source": [
    "#For start times of Q4 - Clean the datetime values (Modified code from Stackoverflow)\n",
    "mask = (pd.PeriodIndex(t2016Q4['start'],freq='Q') != '2016Q4') #get all values that are not within the \n",
    "                                                                #2016 Q4 range\n",
    "s = pd.DatetimeIndex(t2016Q4.loc[mask,'start'].dt.strftime('%Y-%d-%m %H:%M:%S'))\n",
    "t2016Q4.loc[mask,'start'] = pd.to_datetime(s)\n",
    "t2016Q4.start.head()"
   ]
  },
  {
   "cell_type": "code",
   "execution_count": null,
   "metadata": {},
   "outputs": [],
   "source": [
    "#For end times of Q4 - Clean the datetime values\n",
    "mask = (pd.PeriodIndex(t2016Q4['end'],freq='Q') != '2016Q4')\n",
    "s = pd.DatetimeIndex(t2016Q4.loc[mask,'end'].dt.strftime('%Y-%d-%m %H:%M:%S'))\n",
    "t2016Q4.loc[mask,'end'] = pd.to_datetime(s)\n",
    "t2016Q4.end.head()"
   ]
  },
  {
   "cell_type": "code",
   "execution_count": null,
   "metadata": {},
   "outputs": [],
   "source": [
    "#For start times of Q3 - Clean the datetime values\n",
    "mask = (pd.PeriodIndex(t2016Q3['start'],freq='Q') != '2016Q3') #get all values that are not within the \n",
    "                                                                #2016 Q4 range\n",
    "s = pd.DatetimeIndex(t2016Q3.loc[mask,'start'].dt.strftime('%Y-%d-%m %H:%M:%S')) #\n",
    "t2016Q3.loc[mask,'start'] = pd.to_datetime(s)\n",
    "t2016Q3.start.head()"
   ]
  },
  {
   "cell_type": "code",
   "execution_count": null,
   "metadata": {},
   "outputs": [],
   "source": [
    "#For end times of Q3 - Clean the datetime values\n",
    "mask = (pd.PeriodIndex(t2016Q3['end'],freq='Q') != '2016Q3')\n",
    "s = pd.DatetimeIndex(t2016Q3.loc[mask,'end'].dt.strftime('%Y-%d-%m %H:%M:%S'))\n",
    "t2016Q3.loc[mask,'end'] = pd.to_datetime(s)\n",
    "t2016Q3.end.head()"
   ]
  },
  {
   "cell_type": "code",
   "execution_count": null,
   "metadata": {},
   "outputs": [],
   "source": [
    "anomaly = t2016Q3[t2016Q3.start.dt.year == 2000]\n",
    "anomaly\n",
    "t2016Q3.drop(anomaly.index, axis='rows',inplace=True)\n",
    "t2016Q3.info()"
   ]
  },
  {
   "cell_type": "code",
   "execution_count": null,
   "metadata": {},
   "outputs": [],
   "source": [
    "(t2016Q3[t2016Q3.start.dt.year == 2000])"
   ]
  }
 ],
 "metadata": {
  "kernelspec": {
   "display_name": "Python 3",
   "language": "python",
   "name": "python3"
  },
  "language_info": {
   "codemirror_mode": {
    "name": "ipython",
    "version": 3
   },
   "file_extension": ".py",
   "mimetype": "text/x-python",
   "name": "python",
   "nbconvert_exporter": "python",
   "pygments_lexer": "ipython3",
   "version": "3.6.6"
  }
 },
 "nbformat": 4,
 "nbformat_minor": 2
}
