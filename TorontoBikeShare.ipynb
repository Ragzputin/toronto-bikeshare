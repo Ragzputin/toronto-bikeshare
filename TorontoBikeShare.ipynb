{
 "cells": [
  {
   "cell_type": "code",
   "execution_count": 1,
   "metadata": {},
   "outputs": [
    {
     "data": {
      "text/html": [
       "<div>\n",
       "<style scoped>\n",
       "    .dataframe tbody tr th:only-of-type {\n",
       "        vertical-align: middle;\n",
       "    }\n",
       "\n",
       "    .dataframe tbody tr th {\n",
       "        vertical-align: top;\n",
       "    }\n",
       "\n",
       "    .dataframe thead th {\n",
       "        text-align: right;\n",
       "    }\n",
       "</style>\n",
       "<table border=\"1\" class=\"dataframe\">\n",
       "  <thead>\n",
       "    <tr style=\"text-align: right;\">\n",
       "      <th></th>\n",
       "      <th>trip_id</th>\n",
       "      <th>trip_start_time</th>\n",
       "      <th>trip_stop_time</th>\n",
       "      <th>trip_duration_seconds</th>\n",
       "      <th>from_station_name</th>\n",
       "      <th>to_station_name</th>\n",
       "      <th>user_type</th>\n",
       "    </tr>\n",
       "  </thead>\n",
       "  <tbody>\n",
       "    <tr>\n",
       "      <th>0</th>\n",
       "      <td>462305</td>\n",
       "      <td>2016-01-10 00:00:00</td>\n",
       "      <td>2016-01-10 00:07:00</td>\n",
       "      <td>394</td>\n",
       "      <td>Queens Quay W / Dan Leckie Way</td>\n",
       "      <td>Fort York Blvd / Garrison Rd</td>\n",
       "      <td>Casual</td>\n",
       "    </tr>\n",
       "    <tr>\n",
       "      <th>1</th>\n",
       "      <td>462306</td>\n",
       "      <td>2016-01-10 00:00:00</td>\n",
       "      <td>2016-01-10 00:09:00</td>\n",
       "      <td>533</td>\n",
       "      <td>Sherbourne St / Wellesley St</td>\n",
       "      <td>Edward St / Yonge St</td>\n",
       "      <td>Member</td>\n",
       "    </tr>\n",
       "    <tr>\n",
       "      <th>2</th>\n",
       "      <td>462307</td>\n",
       "      <td>2016-01-10 00:00:00</td>\n",
       "      <td>2016-01-10 00:07:00</td>\n",
       "      <td>383</td>\n",
       "      <td>Queens Quay W / Dan Leckie Way</td>\n",
       "      <td>Fort York Blvd / Garrison Rd</td>\n",
       "      <td>Casual</td>\n",
       "    </tr>\n",
       "    <tr>\n",
       "      <th>3</th>\n",
       "      <td>462308</td>\n",
       "      <td>2016-01-10 00:01:00</td>\n",
       "      <td>2016-01-10 00:27:00</td>\n",
       "      <td>1557</td>\n",
       "      <td>Cherry St / Distillery Ln</td>\n",
       "      <td>Fort York  Blvd / Capreol Crt</td>\n",
       "      <td>Casual</td>\n",
       "    </tr>\n",
       "    <tr>\n",
       "      <th>4</th>\n",
       "      <td>462309</td>\n",
       "      <td>2016-01-10 00:01:00</td>\n",
       "      <td>2016-01-10 00:27:00</td>\n",
       "      <td>1547</td>\n",
       "      <td>Cherry St / Distillery Ln</td>\n",
       "      <td>Fort York  Blvd / Capreol Crt</td>\n",
       "      <td>Casual</td>\n",
       "    </tr>\n",
       "    <tr>\n",
       "      <th>5</th>\n",
       "      <td>462310</td>\n",
       "      <td>2016-01-10 00:01:00</td>\n",
       "      <td>2016-01-10 00:04:00</td>\n",
       "      <td>173</td>\n",
       "      <td>College Park South</td>\n",
       "      <td>Dundas St / Yonge St</td>\n",
       "      <td>Member</td>\n",
       "    </tr>\n",
       "    <tr>\n",
       "      <th>6</th>\n",
       "      <td>462311</td>\n",
       "      <td>2016-01-10 00:02:00</td>\n",
       "      <td>2016-01-10 00:28:00</td>\n",
       "      <td>1562</td>\n",
       "      <td>Queen St W / York St (City Hall)</td>\n",
       "      <td>Dundas St W / Crawford St</td>\n",
       "      <td>Casual</td>\n",
       "    </tr>\n",
       "    <tr>\n",
       "      <th>7</th>\n",
       "      <td>462312</td>\n",
       "      <td>2016-01-10 00:02:00</td>\n",
       "      <td>2016-01-10 00:09:00</td>\n",
       "      <td>440</td>\n",
       "      <td>Church St / Bloor St E</td>\n",
       "      <td>College Park South</td>\n",
       "      <td>Member</td>\n",
       "    </tr>\n",
       "    <tr>\n",
       "      <th>8</th>\n",
       "      <td>462313</td>\n",
       "      <td>2016-01-10 00:03:00</td>\n",
       "      <td>2016-01-10 00:07:00</td>\n",
       "      <td>246</td>\n",
       "      <td>Navy Wharf Ct. / Bremner Blvd.</td>\n",
       "      <td>Widmer St / Adelaide St</td>\n",
       "      <td>Member</td>\n",
       "    </tr>\n",
       "    <tr>\n",
       "      <th>9</th>\n",
       "      <td>462314</td>\n",
       "      <td>2016-01-10 00:03:00</td>\n",
       "      <td>2016-01-10 00:28:00</td>\n",
       "      <td>1506</td>\n",
       "      <td>Queen St W / York St (City Hall)</td>\n",
       "      <td>Dundas St W / Crawford St</td>\n",
       "      <td>Casual</td>\n",
       "    </tr>\n",
       "  </tbody>\n",
       "</table>\n",
       "</div>"
      ],
      "text/plain": [
       "   trip_id     trip_start_time      trip_stop_time  trip_duration_seconds  \\\n",
       "0   462305 2016-01-10 00:00:00 2016-01-10 00:07:00                    394   \n",
       "1   462306 2016-01-10 00:00:00 2016-01-10 00:09:00                    533   \n",
       "2   462307 2016-01-10 00:00:00 2016-01-10 00:07:00                    383   \n",
       "3   462308 2016-01-10 00:01:00 2016-01-10 00:27:00                   1557   \n",
       "4   462309 2016-01-10 00:01:00 2016-01-10 00:27:00                   1547   \n",
       "5   462310 2016-01-10 00:01:00 2016-01-10 00:04:00                    173   \n",
       "6   462311 2016-01-10 00:02:00 2016-01-10 00:28:00                   1562   \n",
       "7   462312 2016-01-10 00:02:00 2016-01-10 00:09:00                    440   \n",
       "8   462313 2016-01-10 00:03:00 2016-01-10 00:07:00                    246   \n",
       "9   462314 2016-01-10 00:03:00 2016-01-10 00:28:00                   1506   \n",
       "\n",
       "                  from_station_name                to_station_name user_type  \n",
       "0    Queens Quay W / Dan Leckie Way   Fort York Blvd / Garrison Rd    Casual  \n",
       "1      Sherbourne St / Wellesley St           Edward St / Yonge St    Member  \n",
       "2    Queens Quay W / Dan Leckie Way   Fort York Blvd / Garrison Rd    Casual  \n",
       "3         Cherry St / Distillery Ln  Fort York  Blvd / Capreol Crt    Casual  \n",
       "4         Cherry St / Distillery Ln  Fort York  Blvd / Capreol Crt    Casual  \n",
       "5                College Park South           Dundas St / Yonge St    Member  \n",
       "6  Queen St W / York St (City Hall)      Dundas St W / Crawford St    Casual  \n",
       "7            Church St / Bloor St E             College Park South    Member  \n",
       "8    Navy Wharf Ct. / Bremner Blvd.       Widmer St / Adelaide St     Member  \n",
       "9  Queen St W / York St (City Hall)      Dundas St W / Crawford St    Casual  "
      ]
     },
     "execution_count": 1,
     "metadata": {},
     "output_type": "execute_result"
    }
   ],
   "source": [
    "import pandas as pd\n",
    "import matplotlib as mpl\n",
    "import matplotlib.pyplot as plt\n",
    "plt.style.use(style='ggplot')\n",
    "#plt.rcParams['figure.figsize'] = (30, 20)\n",
    "%matplotlib inline\n",
    "\n",
    "toBike = pd.read_excel('2016_Bike_Share_Toronto_Ridership_Q4.xlsx')\n",
    "toBike.trip_start_time = pd.to_datetime(toBike.trip_start_time)\n",
    "toBike.trip_stop_time = pd.to_datetime(toBike.trip_stop_time)\n",
    "\n",
    "toBike.head(10)"
   ]
  },
  {
   "cell_type": "code",
   "execution_count": 2,
   "metadata": {},
   "outputs": [
    {
     "name": "stdout",
     "output_type": "stream",
     "text": [
      "<class 'pandas.core.frame.DataFrame'>\n",
      "RangeIndex: 217569 entries, 0 to 217568\n",
      "Data columns (total 7 columns):\n",
      "trip_id                  217569 non-null int64\n",
      "trip_start_time          217569 non-null datetime64[ns]\n",
      "trip_stop_time           217569 non-null datetime64[ns]\n",
      "trip_duration_seconds    217569 non-null int64\n",
      "from_station_name        217567 non-null object\n",
      "to_station_name          217567 non-null object\n",
      "user_type                217569 non-null object\n",
      "dtypes: datetime64[ns](2), int64(2), object(3)\n",
      "memory usage: 11.6+ MB\n"
     ]
    }
   ],
   "source": [
    "toBike.info()"
   ]
  },
  {
   "cell_type": "code",
   "execution_count": 3,
   "metadata": {},
   "outputs": [],
   "source": [
    "toBike[\"trip_dayofweek\"] = toBike.trip_start_time.dt.dayofweek\n",
    "\n",
    "age_analysis = toBike.groupby('trip_dayofweek')['trip_duration_seconds'].agg(['sum', 'mean']).reset_index()\n",
    "#age_analysis\n",
    "type_day = pd.crosstab(toBike.trip_dayofweek, toBike.user_type, values=toBike.trip_duration_seconds, aggfunc=\"mean\")"
   ]
  },
  {
   "cell_type": "code",
   "execution_count": 4,
   "metadata": {},
   "outputs": [
    {
     "data": {
      "image/png": "[encoded data removed]",
      "text/plain": [
       "<Figure size 720x360 with 1 Axes>"
      ]
     },
     "metadata": {
      "needs_background": "light"
     },
     "output_type": "display_data"
    }
   ],
   "source": [
    "age_analysis.plot(x='trip_dayofweek', y='mean', kind='bar', legend=False, color = 'g', \n",
    "                  rot=0, figsize=(10, 5), title = 'Average trip duration in day of week');"
   ]
  },
  {
   "cell_type": "code",
   "execution_count": 5,
   "metadata": {},
   "outputs": [
    {
     "data": {
      "image/png": "[encoded data removed]",
      "text/plain": [
       "<Figure size 720x504 with 1 Axes>"
      ]
     },
     "metadata": {
      "needs_background": "light"
     },
     "output_type": "display_data"
    }
   ],
   "source": [
    "type_day.plot(kind='bar', stacked=True, rot = 0, figsize=(10, 7));"
   ]
  },
  {
   "cell_type": "code",
   "execution_count": 6,
   "metadata": {},
   "outputs": [
    {
     "data": {
      "text/plain": [
       "<matplotlib.axes._subplots.AxesSubplot at 0x17882a57588>"
      ]
     },
     "execution_count": 6,
     "metadata": {},
     "output_type": "execute_result"
    },
    {
     "data": {
      "image/png": "[encoded data removed]",
      "text/plain": [
       "<Figure size 720x360 with 1 Axes>"
      ]
     },
     "metadata": {
      "needs_background": "light"
     },
     "output_type": "display_data"
    }
   ],
   "source": [
    "import datetime\n",
    "from dateutil.parser import parse\n",
    "\n",
    "dates = toBike['trip_start_time'].tolist()\n",
    "\n",
    "days = []\n",
    "\n",
    "for i in range(len(dates)):\n",
    "    if type(dates[i]) == str:\n",
    "        dates[i] = parse(dates[i])\n",
    "    day = dates[i].strftime(\"%A\")\n",
    "    days.append(day)\n",
    "\n",
    "days_df = pd.Series(days)\n",
    "day_count = days_df.value_counts()\n",
    "day_count.plot(x='Day', y='Rides', kind='bar', legend=False, color = 'g', \n",
    "                  rot=0, figsize=(10, 5), title = 'Number of Rides Per Day')"
   ]
  },
  {
   "cell_type": "code",
   "execution_count": 7,
   "metadata": {},
   "outputs": [
    {
     "data": {
      "image/png": "[encoded data removed]",
      "text/plain": [
       "<Figure size 720x360 with 1 Axes>"
      ]
     },
     "metadata": {
      "needs_background": "light"
     },
     "output_type": "display_data"
    },
    {
     "data": {
      "image/png": "[encoded data removed]",
      "text/plain": [
       "<Figure size 720x504 with 1 Axes>"
      ]
     },
     "metadata": {
      "needs_background": "light"
     },
     "output_type": "display_data"
    }
   ],
   "source": [
    "#Question 3:\n",
    "toBike[\"trip_hour\"] = toBike.trip_start_time.dt.hour\n",
    "\n",
    "hour_analysis = toBike.groupby('trip_hour')['trip_duration_seconds'].agg(['sum', 'mean']).reset_index()\n",
    "#age_analysis\n",
    "type_hour = pd.crosstab(toBike.trip_hour, toBike.user_type, values=toBike.trip_duration_seconds, aggfunc=\"mean\")\n",
    "\n",
    "hour_analysis.plot(x='trip_hour', y='mean', kind='bar', legend=False, color = 'g', \n",
    "                  rot=0, figsize=(10, 5), title = 'Average trip duration in hour of day');\n",
    "\n",
    "type_hour.plot(kind='bar', stacked=True, rot = 0, figsize=(10, 7));"
   ]
  },
  {
   "cell_type": "markdown",
   "metadata": {},
   "source": [
    "# Q1: Distribution by Month for 2016 Q3 & Q4 (Raghav)"
   ]
  },
  {
   "cell_type": "markdown",
   "metadata": {},
   "source": [
    "## Data Cleaning of 2016 Q3/Q4"
   ]
  },
  {
   "cell_type": "code",
   "execution_count": 1,
   "metadata": {},
   "outputs": [],
   "source": [
    "import numpy as np\n",
    "import pandas as pd\n",
    "import matplotlib.pyplot as plt\n",
    "%matplotlib inline\n",
    "# This will ignore the warnings\n",
    "import warnings\n",
    "warnings.filterwarnings(\"ignore\")\n",
    "\n",
    "# Our temporal data types\n",
    "from datetime import datetime\n",
    "from datetime import timedelta\n",
    "\n",
    "t2016Q4 = pd.read_excel('2016_Bike_Share_Toronto_Ridership_Q4.xlsx',\\\n",
    "                    names=['trip_id','start','end','duration','from','to','user_type'])\n",
    "\n",
    "t2016Q3 = pd.read_excel('2016_Bike_Share_Toronto_Ridership_Q3.xlsx',\n",
    "                       names=['trip_id','start','end','duration','from','to','user_type'])\n",
    "\n",
    "#t1415 = pd.read_excel('2014Q4_to_2015Q3_Bike_Share_Toronto_Ridership.xlsx')"
   ]
  },
  {
   "cell_type": "code",
   "execution_count": 3,
   "metadata": {},
   "outputs": [],
   "source": [
    "#Convert the start datetime into datetime objects\n",
    "t2016Q4['start'] = pd.to_datetime(t2016Q4['start'])\n",
    "t2016Q3['start'] = pd.to_datetime(t2016Q3['start'])"
   ]
  },
  {
   "cell_type": "code",
   "execution_count": 5,
   "metadata": {},
   "outputs": [],
   "source": [
    "#Convert the end datetime into datetime objects\n",
    "t2016Q4['end'] = pd.to_datetime(t2016Q4['end'])\n",
    "t2016Q3['end'] = pd.to_datetime(t2016Q3['end'])"
   ]
  },
  {
   "cell_type": "code",
   "execution_count": 6,
   "metadata": {},
   "outputs": [],
   "source": [
    "#For start times of Q4 - Clean the datetime values\n",
    "mask = (pd.PeriodIndex(t2016Q4['start'],freq='Q') != '2016Q4') #get all values that are not within the \n",
    "                                                                #2016 Q4 range\n",
    "s = pd.DatetimeIndex(t2016Q4.loc[mask,'start'].dt.strftime('%Y-%d-%m %H:%M:%S')) #For all those start datetime\n",
    "                                                                            #entries that don't fall into Q4,\n",
    "                                                                            #swap the day and the month values\n",
    "t2016Q4.loc[mask,'start'] = pd.to_datetime(s) #Finally,convert above string to datetime again"
   ]
  },
  {
   "cell_type": "code",
   "execution_count": 7,
   "metadata": {},
   "outputs": [],
   "source": [
    "#For end times of Q4 - Clean the datetime values\n",
    "mask = (pd.PeriodIndex(t2016Q4['end'],freq='Q') != '2016Q4')\n",
    "s = pd.DatetimeIndex(t2016Q4.loc[mask,'end'].dt.strftime('%Y-%d-%m %H:%M:%S'))\n",
    "t2016Q4.loc[mask,'end'] = pd.to_datetime(s)"
   ]
  },
  {
   "cell_type": "code",
   "execution_count": 10,
   "metadata": {},
   "outputs": [],
   "source": [
    "#For start times of Q3 - Clean the datetime values\n",
    "mask = (pd.PeriodIndex(t2016Q3['start'],freq='Q') != '2016Q3')\n",
    "s = pd.DatetimeIndex(t2016Q3.loc[mask,'start'].dt.strftime('%Y-%d-%m %H:%M:%S'))\n",
    "t2016Q3.loc[mask,'start'] = pd.to_datetime(s)"
   ]
  },
  {
   "cell_type": "code",
   "execution_count": 11,
   "metadata": {},
   "outputs": [],
   "source": [
    "#For end times of Q3 - Clean the datetime values\n",
    "mask = (pd.PeriodIndex(t2016Q3['end'],freq='Q') != '2016Q3')\n",
    "s = pd.DatetimeIndex(t2016Q3.loc[mask,'end'].dt.strftime('%Y-%d-%m %H:%M:%S'))\n",
    "t2016Q3.loc[mask,'end'] = pd.to_datetime(s)"
   ]
  },
  {
   "cell_type": "code",
   "execution_count": 13,
   "metadata": {},
   "outputs": [
    {
     "name": "stdout",
     "output_type": "stream",
     "text": [
      "<class 'pandas.core.frame.DataFrame'>\n",
      "Int64Index: 367961 entries, 0 to 367961\n",
      "Data columns (total 7 columns):\n",
      "trip_id      367961 non-null int64\n",
      "start        367961 non-null datetime64[ns]\n",
      "end          367961 non-null datetime64[ns]\n",
      "duration     367961 non-null int64\n",
      "from         367958 non-null object\n",
      "to           367959 non-null object\n",
      "user_type    367961 non-null object\n",
      "dtypes: datetime64[ns](2), int64(2), object(3)\n",
      "memory usage: 22.5+ MB\n"
     ]
    }
   ],
   "source": [
    "#In Q3 data, one datetime entry was found to be 2000-01-01 which needs to be removed\n",
    "anomaly = t2016Q3[t2016Q3.start.dt.year == 2000] #Check for start datetime whose year is 2000\n",
    "t2016Q3.drop(anomaly.index, axis='rows',inplace=True) #Drop the anomaly value from Q3 dataset\n",
    "t2016Q3.info()"
   ]
  },
  {
   "cell_type": "code",
   "execution_count": 14,
   "metadata": {},
   "outputs": [
    {
     "data": {
      "text/html": [
       "<div>\n",
       "<style scoped>\n",
       "    .dataframe tbody tr th:only-of-type {\n",
       "        vertical-align: middle;\n",
       "    }\n",
       "\n",
       "    .dataframe tbody tr th {\n",
       "        vertical-align: top;\n",
       "    }\n",
       "\n",
       "    .dataframe thead th {\n",
       "        text-align: right;\n",
       "    }\n",
       "</style>\n",
       "<table border=\"1\" class=\"dataframe\">\n",
       "  <thead>\n",
       "    <tr style=\"text-align: right;\">\n",
       "      <th></th>\n",
       "      <th>trip_id</th>\n",
       "      <th>start</th>\n",
       "      <th>end</th>\n",
       "      <th>duration</th>\n",
       "      <th>from</th>\n",
       "      <th>to</th>\n",
       "      <th>user_type</th>\n",
       "    </tr>\n",
       "  </thead>\n",
       "  <tbody>\n",
       "  </tbody>\n",
       "</table>\n",
       "</div>"
      ],
      "text/plain": [
       "Empty DataFrame\n",
       "Columns: [trip_id, start, end, duration, from, to, user_type]\n",
       "Index: []"
      ]
     },
     "execution_count": 14,
     "metadata": {},
     "output_type": "execute_result"
    }
   ],
   "source": [
    "#Check if the anomaly 2000-01-01 still exists in Q3 dataset\n",
    "(t2016Q3[t2016Q3.start.dt.year == 2000])"
   ]
  },
  {
   "cell_type": "markdown",
   "metadata": {},
   "source": [
    "## Distribution of Rides by Month in 2016 Q3/Q4"
   ]
  },
  {
   "cell_type": "markdown",
   "metadata": {},
   "source": [
    "### 2016 Q4"
   ]
  },
  {
   "cell_type": "code",
   "execution_count": 18,
   "metadata": {},
   "outputs": [
    {
     "data": {
      "text/html": [
       "<div>\n",
       "<style scoped>\n",
       "    .dataframe tbody tr th:only-of-type {\n",
       "        vertical-align: middle;\n",
       "    }\n",
       "\n",
       "    .dataframe tbody tr th {\n",
       "        vertical-align: top;\n",
       "    }\n",
       "\n",
       "    .dataframe thead th {\n",
       "        text-align: right;\n",
       "    }\n",
       "</style>\n",
       "<table border=\"1\" class=\"dataframe\">\n",
       "  <thead>\n",
       "    <tr style=\"text-align: right;\">\n",
       "      <th></th>\n",
       "      <th>trip_id</th>\n",
       "      <th>start</th>\n",
       "      <th>end</th>\n",
       "      <th>duration</th>\n",
       "      <th>from</th>\n",
       "      <th>to</th>\n",
       "      <th>user_type</th>\n",
       "      <th>start_month</th>\n",
       "    </tr>\n",
       "  </thead>\n",
       "  <tbody>\n",
       "    <tr>\n",
       "      <th>0</th>\n",
       "      <td>462305</td>\n",
       "      <td>2016-10-01 00:00:00</td>\n",
       "      <td>2016-10-01 00:07:00</td>\n",
       "      <td>394</td>\n",
       "      <td>Queens Quay W / Dan Leckie Way</td>\n",
       "      <td>Fort York Blvd / Garrison Rd</td>\n",
       "      <td>Casual</td>\n",
       "      <td>October</td>\n",
       "    </tr>\n",
       "    <tr>\n",
       "      <th>1</th>\n",
       "      <td>462306</td>\n",
       "      <td>2016-10-01 00:00:00</td>\n",
       "      <td>2016-10-01 00:09:00</td>\n",
       "      <td>533</td>\n",
       "      <td>Sherbourne St / Wellesley St</td>\n",
       "      <td>Edward St / Yonge St</td>\n",
       "      <td>Member</td>\n",
       "      <td>October</td>\n",
       "    </tr>\n",
       "    <tr>\n",
       "      <th>2</th>\n",
       "      <td>462307</td>\n",
       "      <td>2016-10-01 00:00:00</td>\n",
       "      <td>2016-10-01 00:07:00</td>\n",
       "      <td>383</td>\n",
       "      <td>Queens Quay W / Dan Leckie Way</td>\n",
       "      <td>Fort York Blvd / Garrison Rd</td>\n",
       "      <td>Casual</td>\n",
       "      <td>October</td>\n",
       "    </tr>\n",
       "    <tr>\n",
       "      <th>3</th>\n",
       "      <td>462308</td>\n",
       "      <td>2016-10-01 00:01:00</td>\n",
       "      <td>2016-10-01 00:27:00</td>\n",
       "      <td>1557</td>\n",
       "      <td>Cherry St / Distillery Ln</td>\n",
       "      <td>Fort York  Blvd / Capreol Crt</td>\n",
       "      <td>Casual</td>\n",
       "      <td>October</td>\n",
       "    </tr>\n",
       "    <tr>\n",
       "      <th>4</th>\n",
       "      <td>462309</td>\n",
       "      <td>2016-10-01 00:01:00</td>\n",
       "      <td>2016-10-01 00:27:00</td>\n",
       "      <td>1547</td>\n",
       "      <td>Cherry St / Distillery Ln</td>\n",
       "      <td>Fort York  Blvd / Capreol Crt</td>\n",
       "      <td>Casual</td>\n",
       "      <td>October</td>\n",
       "    </tr>\n",
       "  </tbody>\n",
       "</table>\n",
       "</div>"
      ],
      "text/plain": [
       "   trip_id               start                 end  duration  \\\n",
       "0   462305 2016-10-01 00:00:00 2016-10-01 00:07:00       394   \n",
       "1   462306 2016-10-01 00:00:00 2016-10-01 00:09:00       533   \n",
       "2   462307 2016-10-01 00:00:00 2016-10-01 00:07:00       383   \n",
       "3   462308 2016-10-01 00:01:00 2016-10-01 00:27:00      1557   \n",
       "4   462309 2016-10-01 00:01:00 2016-10-01 00:27:00      1547   \n",
       "\n",
       "                             from                             to user_type  \\\n",
       "0  Queens Quay W / Dan Leckie Way   Fort York Blvd / Garrison Rd    Casual   \n",
       "1    Sherbourne St / Wellesley St           Edward St / Yonge St    Member   \n",
       "2  Queens Quay W / Dan Leckie Way   Fort York Blvd / Garrison Rd    Casual   \n",
       "3       Cherry St / Distillery Ln  Fort York  Blvd / Capreol Crt    Casual   \n",
       "4       Cherry St / Distillery Ln  Fort York  Blvd / Capreol Crt    Casual   \n",
       "\n",
       "  start_month  \n",
       "0     October  \n",
       "1     October  \n",
       "2     October  \n",
       "3     October  \n",
       "4     October  "
      ]
     },
     "execution_count": 18,
     "metadata": {},
     "output_type": "execute_result"
    }
   ],
   "source": [
    "#Cleaned Q4 dataset\n",
    "t2016Q4['start_month'] = t2016Q4.start.dt.month_name()\n",
    "t2016Q4.head()"
   ]
  },
  {
   "cell_type": "code",
   "execution_count": 19,
   "metadata": {},
   "outputs": [
    {
     "data": {
      "text/html": [
       "<div>\n",
       "<style scoped>\n",
       "    .dataframe tbody tr th:only-of-type {\n",
       "        vertical-align: middle;\n",
       "    }\n",
       "\n",
       "    .dataframe tbody tr th {\n",
       "        vertical-align: top;\n",
       "    }\n",
       "\n",
       "    .dataframe thead th {\n",
       "        text-align: right;\n",
       "    }\n",
       "</style>\n",
       "<table border=\"1\" class=\"dataframe\">\n",
       "  <thead>\n",
       "    <tr style=\"text-align: right;\">\n",
       "      <th></th>\n",
       "      <th>trip_id</th>\n",
       "      <th>start</th>\n",
       "      <th>end</th>\n",
       "      <th>duration</th>\n",
       "      <th>from</th>\n",
       "      <th>to</th>\n",
       "      <th>user_type</th>\n",
       "    </tr>\n",
       "    <tr>\n",
       "      <th>start_month</th>\n",
       "      <th></th>\n",
       "      <th></th>\n",
       "      <th></th>\n",
       "      <th></th>\n",
       "      <th></th>\n",
       "      <th></th>\n",
       "      <th></th>\n",
       "    </tr>\n",
       "  </thead>\n",
       "  <tbody>\n",
       "    <tr>\n",
       "      <th>December</th>\n",
       "      <td>41605</td>\n",
       "      <td>41605</td>\n",
       "      <td>41605</td>\n",
       "      <td>41605</td>\n",
       "      <td>41605</td>\n",
       "      <td>41605</td>\n",
       "      <td>41605</td>\n",
       "    </tr>\n",
       "    <tr>\n",
       "      <th>November</th>\n",
       "      <td>78666</td>\n",
       "      <td>78666</td>\n",
       "      <td>78666</td>\n",
       "      <td>78666</td>\n",
       "      <td>78666</td>\n",
       "      <td>78666</td>\n",
       "      <td>78666</td>\n",
       "    </tr>\n",
       "    <tr>\n",
       "      <th>October</th>\n",
       "      <td>97298</td>\n",
       "      <td>97298</td>\n",
       "      <td>97298</td>\n",
       "      <td>97298</td>\n",
       "      <td>97296</td>\n",
       "      <td>97296</td>\n",
       "      <td>97298</td>\n",
       "    </tr>\n",
       "  </tbody>\n",
       "</table>\n",
       "</div>"
      ],
      "text/plain": [
       "             trip_id  start    end  duration   from     to  user_type\n",
       "start_month                                                          \n",
       "December       41605  41605  41605     41605  41605  41605      41605\n",
       "November       78666  78666  78666     78666  78666  78666      78666\n",
       "October        97298  97298  97298     97298  97296  97296      97298"
      ]
     },
     "execution_count": 19,
     "metadata": {},
     "output_type": "execute_result"
    }
   ],
   "source": [
    "#Group the Q4 dataframe by the start month name\n",
    "t2016Q4_grp = t2016Q4.groupby(['start_month']).count()\n",
    "t2016Q4_grp"
   ]
  },
  {
   "cell_type": "markdown",
   "metadata": {},
   "source": [
    "### 2016 Q3 "
   ]
  },
  {
   "cell_type": "code",
   "execution_count": 20,
   "metadata": {},
   "outputs": [
    {
     "data": {
      "text/html": [
       "<div>\n",
       "<style scoped>\n",
       "    .dataframe tbody tr th:only-of-type {\n",
       "        vertical-align: middle;\n",
       "    }\n",
       "\n",
       "    .dataframe tbody tr th {\n",
       "        vertical-align: top;\n",
       "    }\n",
       "\n",
       "    .dataframe thead th {\n",
       "        text-align: right;\n",
       "    }\n",
       "</style>\n",
       "<table border=\"1\" class=\"dataframe\">\n",
       "  <thead>\n",
       "    <tr style=\"text-align: right;\">\n",
       "      <th></th>\n",
       "      <th>trip_id</th>\n",
       "      <th>start</th>\n",
       "      <th>end</th>\n",
       "      <th>duration</th>\n",
       "      <th>from</th>\n",
       "      <th>to</th>\n",
       "      <th>user_type</th>\n",
       "      <th>start_month</th>\n",
       "    </tr>\n",
       "  </thead>\n",
       "  <tbody>\n",
       "    <tr>\n",
       "      <th>0</th>\n",
       "      <td>53279</td>\n",
       "      <td>2016-07-09 01:03:00</td>\n",
       "      <td>2016-07-09 01:15:00</td>\n",
       "      <td>714</td>\n",
       "      <td>Dundas St E / Regent Park Blvd</td>\n",
       "      <td>Danforth Ave / Ellerbeck St</td>\n",
       "      <td>Member</td>\n",
       "      <td>July</td>\n",
       "    </tr>\n",
       "    <tr>\n",
       "      <th>1</th>\n",
       "      <td>53394</td>\n",
       "      <td>2016-07-09 02:15:00</td>\n",
       "      <td>2016-07-09 02:22:00</td>\n",
       "      <td>417</td>\n",
       "      <td>Riverdale Park North (Broadview Ave)</td>\n",
       "      <td>Dundas St E / Regent Park Blvd</td>\n",
       "      <td>Member</td>\n",
       "      <td>July</td>\n",
       "    </tr>\n",
       "    <tr>\n",
       "      <th>2</th>\n",
       "      <td>58314</td>\n",
       "      <td>2016-07-10 17:04:00</td>\n",
       "      <td>2016-07-10 17:36:00</td>\n",
       "      <td>1904</td>\n",
       "      <td>Dundas St E / Regent Park Blvd</td>\n",
       "      <td>Queen St W / Close Ave</td>\n",
       "      <td>Member</td>\n",
       "      <td>July</td>\n",
       "    </tr>\n",
       "    <tr>\n",
       "      <th>3</th>\n",
       "      <td>60784</td>\n",
       "      <td>2016-07-11 01:45:00</td>\n",
       "      <td>2016-07-11 01:58:00</td>\n",
       "      <td>784</td>\n",
       "      <td>Union Station</td>\n",
       "      <td>Dundas St E / Regent Park Blvd</td>\n",
       "      <td>Member</td>\n",
       "      <td>July</td>\n",
       "    </tr>\n",
       "    <tr>\n",
       "      <th>4</th>\n",
       "      <td>93164</td>\n",
       "      <td>2016-07-18 13:35:00</td>\n",
       "      <td>2016-07-18 13:42:00</td>\n",
       "      <td>443</td>\n",
       "      <td>Front St W / Blue Jays Way</td>\n",
       "      <td>Front St / Yonge St (Hockey Hall of Fame)</td>\n",
       "      <td>Member</td>\n",
       "      <td>July</td>\n",
       "    </tr>\n",
       "  </tbody>\n",
       "</table>\n",
       "</div>"
      ],
      "text/plain": [
       "   trip_id               start                 end  duration  \\\n",
       "0    53279 2016-07-09 01:03:00 2016-07-09 01:15:00       714   \n",
       "1    53394 2016-07-09 02:15:00 2016-07-09 02:22:00       417   \n",
       "2    58314 2016-07-10 17:04:00 2016-07-10 17:36:00      1904   \n",
       "3    60784 2016-07-11 01:45:00 2016-07-11 01:58:00       784   \n",
       "4    93164 2016-07-18 13:35:00 2016-07-18 13:42:00       443   \n",
       "\n",
       "                                   from  \\\n",
       "0        Dundas St E / Regent Park Blvd   \n",
       "1  Riverdale Park North (Broadview Ave)   \n",
       "2        Dundas St E / Regent Park Blvd   \n",
       "3                         Union Station   \n",
       "4            Front St W / Blue Jays Way   \n",
       "\n",
       "                                          to user_type start_month  \n",
       "0                Danforth Ave / Ellerbeck St    Member        July  \n",
       "1             Dundas St E / Regent Park Blvd    Member        July  \n",
       "2                     Queen St W / Close Ave    Member        July  \n",
       "3             Dundas St E / Regent Park Blvd    Member        July  \n",
       "4  Front St / Yonge St (Hockey Hall of Fame)    Member        July  "
      ]
     },
     "execution_count": 20,
     "metadata": {},
     "output_type": "execute_result"
    }
   ],
   "source": [
    "#Cleaned Q3 dataset\n",
    "t2016Q3['start_month'] = t2016Q3.start.dt.month_name()\n",
    "t2016Q3.head()"
   ]
  },
  {
   "cell_type": "code",
   "execution_count": 21,
   "metadata": {},
   "outputs": [
    {
     "data": {
      "text/html": [
       "<div>\n",
       "<style scoped>\n",
       "    .dataframe tbody tr th:only-of-type {\n",
       "        vertical-align: middle;\n",
       "    }\n",
       "\n",
       "    .dataframe tbody tr th {\n",
       "        vertical-align: top;\n",
       "    }\n",
       "\n",
       "    .dataframe thead th {\n",
       "        text-align: right;\n",
       "    }\n",
       "</style>\n",
       "<table border=\"1\" class=\"dataframe\">\n",
       "  <thead>\n",
       "    <tr style=\"text-align: right;\">\n",
       "      <th></th>\n",
       "      <th>trip_id</th>\n",
       "      <th>start</th>\n",
       "      <th>end</th>\n",
       "      <th>duration</th>\n",
       "      <th>from</th>\n",
       "      <th>to</th>\n",
       "      <th>user_type</th>\n",
       "    </tr>\n",
       "    <tr>\n",
       "      <th>start_month</th>\n",
       "      <th></th>\n",
       "      <th></th>\n",
       "      <th></th>\n",
       "      <th></th>\n",
       "      <th></th>\n",
       "      <th></th>\n",
       "      <th></th>\n",
       "    </tr>\n",
       "  </thead>\n",
       "  <tbody>\n",
       "    <tr>\n",
       "      <th>August</th>\n",
       "      <td>130437</td>\n",
       "      <td>130437</td>\n",
       "      <td>130437</td>\n",
       "      <td>130437</td>\n",
       "      <td>130437</td>\n",
       "      <td>130437</td>\n",
       "      <td>130437</td>\n",
       "    </tr>\n",
       "    <tr>\n",
       "      <th>July</th>\n",
       "      <td>107384</td>\n",
       "      <td>107384</td>\n",
       "      <td>107384</td>\n",
       "      <td>107384</td>\n",
       "      <td>107384</td>\n",
       "      <td>107384</td>\n",
       "      <td>107384</td>\n",
       "    </tr>\n",
       "    <tr>\n",
       "      <th>September</th>\n",
       "      <td>130140</td>\n",
       "      <td>130140</td>\n",
       "      <td>130140</td>\n",
       "      <td>130140</td>\n",
       "      <td>130137</td>\n",
       "      <td>130138</td>\n",
       "      <td>130140</td>\n",
       "    </tr>\n",
       "  </tbody>\n",
       "</table>\n",
       "</div>"
      ],
      "text/plain": [
       "             trip_id   start     end  duration    from      to  user_type\n",
       "start_month                                                              \n",
       "August        130437  130437  130437    130437  130437  130437     130437\n",
       "July          107384  107384  107384    107384  107384  107384     107384\n",
       "September     130140  130140  130140    130140  130137  130138     130140"
      ]
     },
     "execution_count": 21,
     "metadata": {},
     "output_type": "execute_result"
    }
   ],
   "source": [
    "#Group the Q3 dataframe by the start month name\n",
    "t2016Q3_grp = t2016Q3.groupby(['start_month']).count()\n",
    "t2016Q3_grp"
   ]
  },
  {
   "cell_type": "markdown",
   "metadata": {},
   "source": [
    "### Combining Q3/Q4 Together"
   ]
  },
  {
   "cell_type": "code",
   "execution_count": 22,
   "metadata": {},
   "outputs": [],
   "source": [
    "#Combine both Q3 and Q4 by row - from July to Dec 2016\n",
    "t2016Q3Q4 = pd.concat([t2016Q3_grp,t2016Q4_grp])\n",
    "lst2016 = list(t2016Q3Q4.index)"
   ]
  },
  {
   "cell_type": "code",
   "execution_count": 23,
   "metadata": {},
   "outputs": [],
   "source": [
    "#We want to organize our final dataset by month\n",
    "months = ['January','February','March','April','May','June',\\\n",
    "         'July','August','September','October','November','December']\n",
    "t2016Q3Q4.index = pd.Categorical(t2016Q3Q4.index,categories=months,ordered=True)"
   ]
  },
  {
   "cell_type": "code",
   "execution_count": 24,
   "metadata": {},
   "outputs": [
    {
     "data": {
      "text/html": [
       "<div>\n",
       "<style scoped>\n",
       "    .dataframe tbody tr th:only-of-type {\n",
       "        vertical-align: middle;\n",
       "    }\n",
       "\n",
       "    .dataframe tbody tr th {\n",
       "        vertical-align: top;\n",
       "    }\n",
       "\n",
       "    .dataframe thead th {\n",
       "        text-align: right;\n",
       "    }\n",
       "</style>\n",
       "<table border=\"1\" class=\"dataframe\">\n",
       "  <thead>\n",
       "    <tr style=\"text-align: right;\">\n",
       "      <th></th>\n",
       "      <th>trip_id</th>\n",
       "      <th>start</th>\n",
       "      <th>end</th>\n",
       "      <th>duration</th>\n",
       "      <th>from</th>\n",
       "      <th>to</th>\n",
       "      <th>user_type</th>\n",
       "    </tr>\n",
       "  </thead>\n",
       "  <tbody>\n",
       "    <tr>\n",
       "      <th>July</th>\n",
       "      <td>107384</td>\n",
       "      <td>107384</td>\n",
       "      <td>107384</td>\n",
       "      <td>107384</td>\n",
       "      <td>107384</td>\n",
       "      <td>107384</td>\n",
       "      <td>107384</td>\n",
       "    </tr>\n",
       "    <tr>\n",
       "      <th>August</th>\n",
       "      <td>130437</td>\n",
       "      <td>130437</td>\n",
       "      <td>130437</td>\n",
       "      <td>130437</td>\n",
       "      <td>130437</td>\n",
       "      <td>130437</td>\n",
       "      <td>130437</td>\n",
       "    </tr>\n",
       "    <tr>\n",
       "      <th>September</th>\n",
       "      <td>130140</td>\n",
       "      <td>130140</td>\n",
       "      <td>130140</td>\n",
       "      <td>130140</td>\n",
       "      <td>130137</td>\n",
       "      <td>130138</td>\n",
       "      <td>130140</td>\n",
       "    </tr>\n",
       "    <tr>\n",
       "      <th>October</th>\n",
       "      <td>97298</td>\n",
       "      <td>97298</td>\n",
       "      <td>97298</td>\n",
       "      <td>97298</td>\n",
       "      <td>97296</td>\n",
       "      <td>97296</td>\n",
       "      <td>97298</td>\n",
       "    </tr>\n",
       "    <tr>\n",
       "      <th>November</th>\n",
       "      <td>78666</td>\n",
       "      <td>78666</td>\n",
       "      <td>78666</td>\n",
       "      <td>78666</td>\n",
       "      <td>78666</td>\n",
       "      <td>78666</td>\n",
       "      <td>78666</td>\n",
       "    </tr>\n",
       "    <tr>\n",
       "      <th>December</th>\n",
       "      <td>41605</td>\n",
       "      <td>41605</td>\n",
       "      <td>41605</td>\n",
       "      <td>41605</td>\n",
       "      <td>41605</td>\n",
       "      <td>41605</td>\n",
       "      <td>41605</td>\n",
       "    </tr>\n",
       "  </tbody>\n",
       "</table>\n",
       "</div>"
      ],
      "text/plain": [
       "           trip_id   start     end  duration    from      to  user_type\n",
       "July        107384  107384  107384    107384  107384  107384     107384\n",
       "August      130437  130437  130437    130437  130437  130437     130437\n",
       "September   130140  130140  130140    130140  130137  130138     130140\n",
       "October      97298   97298   97298     97298   97296   97296      97298\n",
       "November     78666   78666   78666     78666   78666   78666      78666\n",
       "December     41605   41605   41605     41605   41605   41605      41605"
      ]
     },
     "execution_count": 24,
     "metadata": {},
     "output_type": "execute_result"
    }
   ],
   "source": [
    "#Finally, sort by the index which is the start month name\n",
    "#and save these changes to the original dataframe\n",
    "t2016Q3Q4.sort_index(inplace=True)\n",
    "t2016Q3Q4"
   ]
  },
  {
   "cell_type": "markdown",
   "metadata": {},
   "source": [
    "### Plotting of Monthly Ridership in 2016 Q3/Q4 "
   ]
  },
  {
   "cell_type": "code",
   "execution_count": 26,
   "metadata": {},
   "outputs": [
    {
     "name": "stdout",
     "output_type": "stream",
     "text": [
      "n_grp = 6\n",
      "x_pos = [0 1 2 3 4 5]\n"
     ]
    },
    {
     "data": {
      "image/png": "[encoded data removed]",
      "text/plain": [
       "<Figure size 1440x720 with 1 Axes>"
      ]
     },
     "metadata": {},
     "output_type": "display_data"
    }
   ],
   "source": [
    "#Using Matplotlib, let's plot the total rides by month from July to December 2016\n",
    "\n",
    "plt.style.use(style='seaborn')\n",
    "fig, ax = plt.subplots(figsize=(20,10))\n",
    "\n",
    "n_grp = t2016Q3Q4.index.size\n",
    "print(\"n_grp =\", n_grp)\n",
    "x_pos = np.arange(n_grp)\n",
    "print(\"x_pos =\", x_pos)\n",
    "width = 0.1\n",
    "\n",
    "ax.set(title='Number of bikeshare rides by month',\\\n",
    "      xticks=x_pos+width/2,\\\n",
    "      xticklabels=t2016Q3Q4.index)\n",
    "\n",
    "ax.bar(x_pos, t2016Q3Q4['start'], width, color='blue',align='center',label='months')\n",
    "plt.show()"
   ]
  },
  {
   "cell_type": "code",
   "execution_count": null,
   "metadata": {},
   "outputs": [],
   "source": []
  }
 ],
 "metadata": {
  "kernelspec": {
   "display_name": "Python 3",
   "language": "python",
   "name": "python3"
  },
  "language_info": {
   "codemirror_mode": {
    "name": "ipython",
    "version": 3
   },
   "file_extension": ".py",
   "mimetype": "text/x-python",
   "name": "python",
   "nbconvert_exporter": "python",
   "pygments_lexer": "ipython3",
   "version": "3.6.6"
  }
 },
 "nbformat": 4,
 "nbformat_minor": 2
}
