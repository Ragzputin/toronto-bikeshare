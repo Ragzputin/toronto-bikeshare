{
 "cells": [
  {
   "cell_type": "markdown",
   "metadata": {},
   "source": [
    "# Group Assignment TO Bike Share Analysis "
   ]
  },
  {
   "cell_type": "markdown",
   "metadata": {},
   "source": [
    "First let's read in the excel file to convert it into a dataframe."
   ]
  },
  {
   "cell_type": "markdown",
   "metadata": {},
   "source": [
    "Here are some questions I'd like to ask:\n",
    "1. Which months do the most rides occur in 2014, 2015, 2016?\n",
    "2. How many users are members and how many are casual?\n",
    "3. What are the most frequent start times (is it at midnight, midday, evening)? What kind of distribution can we see for start times to graph?\n",
    "4. Which days are the most frequent days and which are the least frequent days that users use the bike share? What type of distribution can we find for the days of the week to graph? \n",
    "5. Which is the most frequent start location? Which is the most frequent end location? Are there any distributions for these locations that we can graph?"
   ]
  },
  {
   "cell_type": "code",
   "execution_count": 93,
   "metadata": {},
   "outputs": [],
   "source": [
    "import numpy as np\n",
    "import pandas as pd\n",
    "import matplotlib.pyplot as plt\n",
    "%matplotlib inline\n",
    "# This will ignore the warnings\n",
    "import warnings\n",
    "warnings.filterwarnings(\"ignore\")\n",
    "\n",
    "# Our temporal data types\n",
    "from datetime import datetime\n",
    "from datetime import timedelta\n",
    "\n",
    "t2016Q4 = pd.read_excel('2016_Bike_Share_Toronto_Ridership_Q4.xlsx',\\\n",
    "                    names=['trip_id','start','end','duration','from','to','user_type'])\n",
    "\n",
    "t2016Q3 = pd.read_excel('2016_Bike_Share_Toronto_Ridership_Q3.xlsx',\n",
    "                       names=['trip_id','start','end','duration','from','to','user_type'])"
   ]
  },
  {
   "cell_type": "markdown",
   "metadata": {},
   "source": [
    "## Clean the Data for Q4 and Q3 of 2016"
   ]
  },
  {
   "cell_type": "code",
   "execution_count": 94,
   "metadata": {},
   "outputs": [],
   "source": [
    "t2016Q4['start'] = pd.to_datetime(t2016Q4['start'])\n",
    "t2016Q3['start'] = pd.to_datetime(t2016Q3['start'])"
   ]
  },
  {
   "cell_type": "code",
   "execution_count": 95,
   "metadata": {},
   "outputs": [],
   "source": [
    "t2016Q4['end'] = pd.to_datetime(t2016Q4['end'])\n",
    "t2016Q3['end'] = pd.to_datetime(t2016Q3['end'])"
   ]
  },
  {
   "cell_type": "code",
   "execution_count": 96,
   "metadata": {},
   "outputs": [
    {
     "name": "stdout",
     "output_type": "stream",
     "text": [
      "<class 'pandas.core.frame.DataFrame'>\n",
      "RangeIndex: 217569 entries, 0 to 217568\n",
      "Data columns (total 7 columns):\n",
      "trip_id      217569 non-null int64\n",
      "start        217569 non-null datetime64[ns]\n",
      "end          217569 non-null datetime64[ns]\n",
      "duration     217569 non-null int64\n",
      "from         217567 non-null object\n",
      "to           217567 non-null object\n",
      "user_type    217569 non-null object\n",
      "dtypes: datetime64[ns](2), int64(2), object(3)\n",
      "memory usage: 11.6+ MB\n"
     ]
    }
   ],
   "source": [
    "t2016Q4.info()"
   ]
  },
  {
   "cell_type": "code",
   "execution_count": 97,
   "metadata": {},
   "outputs": [
    {
     "name": "stdout",
     "output_type": "stream",
     "text": [
      "<class 'pandas.core.frame.DataFrame'>\n",
      "RangeIndex: 367962 entries, 0 to 367961\n",
      "Data columns (total 7 columns):\n",
      "trip_id      367962 non-null int64\n",
      "start        367962 non-null datetime64[ns]\n",
      "end          367962 non-null datetime64[ns]\n",
      "duration     367962 non-null int64\n",
      "from         367959 non-null object\n",
      "to           367960 non-null object\n",
      "user_type    367962 non-null object\n",
      "dtypes: datetime64[ns](2), int64(2), object(3)\n",
      "memory usage: 19.7+ MB\n"
     ]
    }
   ],
   "source": [
    "t2016Q3.info()"
   ]
  },
  {
   "cell_type": "code",
   "execution_count": 98,
   "metadata": {},
   "outputs": [
    {
     "data": {
      "text/html": [
       "<div>\n",
       "<style scoped>\n",
       "    .dataframe tbody tr th:only-of-type {\n",
       "        vertical-align: middle;\n",
       "    }\n",
       "\n",
       "    .dataframe tbody tr th {\n",
       "        vertical-align: top;\n",
       "    }\n",
       "\n",
       "    .dataframe thead th {\n",
       "        text-align: right;\n",
       "    }\n",
       "</style>\n",
       "<table border=\"1\" class=\"dataframe\">\n",
       "  <thead>\n",
       "    <tr style=\"text-align: right;\">\n",
       "      <th></th>\n",
       "      <th>start</th>\n",
       "      <th>end</th>\n",
       "    </tr>\n",
       "  </thead>\n",
       "  <tbody>\n",
       "    <tr>\n",
       "      <th>0</th>\n",
       "      <td>2016-01-10 00:00:00</td>\n",
       "      <td>2016-01-10 00:07:00</td>\n",
       "    </tr>\n",
       "    <tr>\n",
       "      <th>1</th>\n",
       "      <td>2016-01-10 00:00:00</td>\n",
       "      <td>2016-01-10 00:09:00</td>\n",
       "    </tr>\n",
       "    <tr>\n",
       "      <th>2</th>\n",
       "      <td>2016-01-10 00:00:00</td>\n",
       "      <td>2016-01-10 00:07:00</td>\n",
       "    </tr>\n",
       "    <tr>\n",
       "      <th>3</th>\n",
       "      <td>2016-01-10 00:01:00</td>\n",
       "      <td>2016-01-10 00:27:00</td>\n",
       "    </tr>\n",
       "    <tr>\n",
       "      <th>4</th>\n",
       "      <td>2016-01-10 00:01:00</td>\n",
       "      <td>2016-01-10 00:27:00</td>\n",
       "    </tr>\n",
       "  </tbody>\n",
       "</table>\n",
       "</div>"
      ],
      "text/plain": [
       "                start                 end\n",
       "0 2016-01-10 00:00:00 2016-01-10 00:07:00\n",
       "1 2016-01-10 00:00:00 2016-01-10 00:09:00\n",
       "2 2016-01-10 00:00:00 2016-01-10 00:07:00\n",
       "3 2016-01-10 00:01:00 2016-01-10 00:27:00\n",
       "4 2016-01-10 00:01:00 2016-01-10 00:27:00"
      ]
     },
     "execution_count": 98,
     "metadata": {},
     "output_type": "execute_result"
    }
   ],
   "source": [
    "t2016Q4[['start','end']].head()"
   ]
  },
  {
   "cell_type": "code",
   "execution_count": 99,
   "metadata": {},
   "outputs": [
    {
     "data": {
      "text/html": [
       "<div>\n",
       "<style scoped>\n",
       "    .dataframe tbody tr th:only-of-type {\n",
       "        vertical-align: middle;\n",
       "    }\n",
       "\n",
       "    .dataframe tbody tr th {\n",
       "        vertical-align: top;\n",
       "    }\n",
       "\n",
       "    .dataframe thead th {\n",
       "        text-align: right;\n",
       "    }\n",
       "</style>\n",
       "<table border=\"1\" class=\"dataframe\">\n",
       "  <thead>\n",
       "    <tr style=\"text-align: right;\">\n",
       "      <th></th>\n",
       "      <th>start</th>\n",
       "      <th>end</th>\n",
       "    </tr>\n",
       "  </thead>\n",
       "  <tbody>\n",
       "    <tr>\n",
       "      <th>0</th>\n",
       "      <td>2016-07-09 01:03:00</td>\n",
       "      <td>2016-07-09 01:15:00</td>\n",
       "    </tr>\n",
       "    <tr>\n",
       "      <th>1</th>\n",
       "      <td>2016-07-09 02:15:00</td>\n",
       "      <td>2016-07-09 02:22:00</td>\n",
       "    </tr>\n",
       "    <tr>\n",
       "      <th>2</th>\n",
       "      <td>2016-07-10 17:04:00</td>\n",
       "      <td>2016-07-10 17:36:00</td>\n",
       "    </tr>\n",
       "    <tr>\n",
       "      <th>3</th>\n",
       "      <td>2016-07-11 01:45:00</td>\n",
       "      <td>2016-07-11 01:58:00</td>\n",
       "    </tr>\n",
       "    <tr>\n",
       "      <th>4</th>\n",
       "      <td>2016-07-18 13:35:00</td>\n",
       "      <td>2016-07-18 13:42:00</td>\n",
       "    </tr>\n",
       "  </tbody>\n",
       "</table>\n",
       "</div>"
      ],
      "text/plain": [
       "                start                 end\n",
       "0 2016-07-09 01:03:00 2016-07-09 01:15:00\n",
       "1 2016-07-09 02:15:00 2016-07-09 02:22:00\n",
       "2 2016-07-10 17:04:00 2016-07-10 17:36:00\n",
       "3 2016-07-11 01:45:00 2016-07-11 01:58:00\n",
       "4 2016-07-18 13:35:00 2016-07-18 13:42:00"
      ]
     },
     "execution_count": 99,
     "metadata": {},
     "output_type": "execute_result"
    }
   ],
   "source": [
    "t2016Q3[['start','end']].head()"
   ]
  },
  {
   "cell_type": "code",
   "execution_count": 100,
   "metadata": {
    "scrolled": false
   },
   "outputs": [],
   "source": [
    "#For start times of Q4 - Clean the datetime values\n",
    "\n",
    "mask = (pd.PeriodIndex(t2016Q4['start'],freq='Q') != '2016Q4') #get all values that are not within the \n",
    "                                                                #2016 Q4 range\n",
    "s = pd.DatetimeIndex(t2016Q4.loc[mask,'start'].dt.strftime('%Y-%d-%m %H:%M:%S')) #\n",
    "t2016Q4.loc[mask,'start'] = pd.to_datetime(s)"
   ]
  },
  {
   "cell_type": "code",
   "execution_count": 101,
   "metadata": {},
   "outputs": [],
   "source": [
    "#For end times of Q4 - Clean the datetime values\n",
    "mask = (pd.PeriodIndex(t2016Q4['end'],freq='Q') != '2016Q4')\n",
    "s = pd.DatetimeIndex(t2016Q4.loc[mask,'end'].dt.strftime('%Y-%d-%m %H:%M:%S'))\n",
    "t2016Q4.loc[mask,'end'] = pd.to_datetime(s)"
   ]
  },
  {
   "cell_type": "code",
   "execution_count": 102,
   "metadata": {},
   "outputs": [
    {
     "data": {
      "text/html": [
       "<div>\n",
       "<style scoped>\n",
       "    .dataframe tbody tr th:only-of-type {\n",
       "        vertical-align: middle;\n",
       "    }\n",
       "\n",
       "    .dataframe tbody tr th {\n",
       "        vertical-align: top;\n",
       "    }\n",
       "\n",
       "    .dataframe thead th {\n",
       "        text-align: right;\n",
       "    }\n",
       "</style>\n",
       "<table border=\"1\" class=\"dataframe\">\n",
       "  <thead>\n",
       "    <tr style=\"text-align: right;\">\n",
       "      <th></th>\n",
       "      <th>start</th>\n",
       "      <th>end</th>\n",
       "    </tr>\n",
       "  </thead>\n",
       "  <tbody>\n",
       "    <tr>\n",
       "      <th>0</th>\n",
       "      <td>2016-10-01 00:00:00</td>\n",
       "      <td>2016-10-01 00:07:00</td>\n",
       "    </tr>\n",
       "    <tr>\n",
       "      <th>1</th>\n",
       "      <td>2016-10-01 00:00:00</td>\n",
       "      <td>2016-10-01 00:09:00</td>\n",
       "    </tr>\n",
       "    <tr>\n",
       "      <th>2</th>\n",
       "      <td>2016-10-01 00:00:00</td>\n",
       "      <td>2016-10-01 00:07:00</td>\n",
       "    </tr>\n",
       "    <tr>\n",
       "      <th>3</th>\n",
       "      <td>2016-10-01 00:01:00</td>\n",
       "      <td>2016-10-01 00:27:00</td>\n",
       "    </tr>\n",
       "    <tr>\n",
       "      <th>4</th>\n",
       "      <td>2016-10-01 00:01:00</td>\n",
       "      <td>2016-10-01 00:27:00</td>\n",
       "    </tr>\n",
       "  </tbody>\n",
       "</table>\n",
       "</div>"
      ],
      "text/plain": [
       "                start                 end\n",
       "0 2016-10-01 00:00:00 2016-10-01 00:07:00\n",
       "1 2016-10-01 00:00:00 2016-10-01 00:09:00\n",
       "2 2016-10-01 00:00:00 2016-10-01 00:07:00\n",
       "3 2016-10-01 00:01:00 2016-10-01 00:27:00\n",
       "4 2016-10-01 00:01:00 2016-10-01 00:27:00"
      ]
     },
     "execution_count": 102,
     "metadata": {},
     "output_type": "execute_result"
    }
   ],
   "source": [
    "t2016Q4[['start','end']].head()"
   ]
  },
  {
   "cell_type": "code",
   "execution_count": 103,
   "metadata": {},
   "outputs": [],
   "source": [
    "#For start times of Q3 - Clean the datetime values\n",
    "mask = (pd.PeriodIndex(t2016Q3['start'],freq='Q') != '2016Q3') #get all values that are not within the \n",
    "                                                                #2016 Q4 range\n",
    "s = pd.DatetimeIndex(t2016Q3.loc[mask,'start'].dt.strftime('%Y-%d-%m %H:%M:%S')) #\n",
    "t2016Q3.loc[mask,'start'] = pd.to_datetime(s)"
   ]
  },
  {
   "cell_type": "code",
   "execution_count": 104,
   "metadata": {},
   "outputs": [],
   "source": [
    "#For end times of Q3 - Clean the datetime values\n",
    "mask = (pd.PeriodIndex(t2016Q3['end'],freq='Q') != '2016Q3')\n",
    "s = pd.DatetimeIndex(t2016Q3.loc[mask,'end'].dt.strftime('%Y-%d-%m %H:%M:%S'))\n",
    "t2016Q3.loc[mask,'end'] = pd.to_datetime(s)"
   ]
  },
  {
   "cell_type": "code",
   "execution_count": 105,
   "metadata": {},
   "outputs": [
    {
     "data": {
      "text/html": [
       "<div>\n",
       "<style scoped>\n",
       "    .dataframe tbody tr th:only-of-type {\n",
       "        vertical-align: middle;\n",
       "    }\n",
       "\n",
       "    .dataframe tbody tr th {\n",
       "        vertical-align: top;\n",
       "    }\n",
       "\n",
       "    .dataframe thead th {\n",
       "        text-align: right;\n",
       "    }\n",
       "</style>\n",
       "<table border=\"1\" class=\"dataframe\">\n",
       "  <thead>\n",
       "    <tr style=\"text-align: right;\">\n",
       "      <th></th>\n",
       "      <th>trip_id</th>\n",
       "      <th>start</th>\n",
       "      <th>end</th>\n",
       "      <th>duration</th>\n",
       "      <th>from</th>\n",
       "      <th>to</th>\n",
       "      <th>user_type</th>\n",
       "    </tr>\n",
       "  </thead>\n",
       "  <tbody>\n",
       "    <tr>\n",
       "      <th>365004</th>\n",
       "      <td>622515</td>\n",
       "      <td>2000-01-01 14:40:00</td>\n",
       "      <td>2000-01-01 15:44:00</td>\n",
       "      <td>3794</td>\n",
       "      <td>Front St / Yonge St (Hockey Hall of Fame)</td>\n",
       "      <td>Front St / Yonge St (Hockey Hall of Fame)</td>\n",
       "      <td>Member</td>\n",
       "    </tr>\n",
       "  </tbody>\n",
       "</table>\n",
       "</div>"
      ],
      "text/plain": [
       "        trip_id               start                 end  duration  \\\n",
       "365004   622515 2000-01-01 14:40:00 2000-01-01 15:44:00      3794   \n",
       "\n",
       "                                             from  \\\n",
       "365004  Front St / Yonge St (Hockey Hall of Fame)   \n",
       "\n",
       "                                               to user_type  \n",
       "365004  Front St / Yonge St (Hockey Hall of Fame)    Member  "
      ]
     },
     "execution_count": 105,
     "metadata": {},
     "output_type": "execute_result"
    }
   ],
   "source": [
    "t2016Q3[t2016Q3.start.dt.year == 2000]"
   ]
  },
  {
   "cell_type": "code",
   "execution_count": 14,
   "metadata": {
    "scrolled": false
   },
   "outputs": [
    {
     "name": "stdout",
     "output_type": "stream",
     "text": [
      "<class 'pandas.core.frame.DataFrame'>\n",
      "Int64Index: 367961 entries, 0 to 367961\n",
      "Data columns (total 7 columns):\n",
      "trip_id      367961 non-null int64\n",
      "start        367961 non-null datetime64[ns]\n",
      "end          367961 non-null datetime64[ns]\n",
      "duration     367961 non-null int64\n",
      "from         367958 non-null object\n",
      "to           367959 non-null object\n",
      "user_type    367961 non-null object\n",
      "dtypes: datetime64[ns](2), int64(2), object(3)\n",
      "memory usage: 22.5+ MB\n"
     ]
    }
   ],
   "source": [
    "anomaly = t2016Q3[t2016Q3.start.dt.year == 2000]\n",
    "anomaly\n",
    "t2016Q3.drop(anomaly.index, axis='rows',inplace=True)\n",
    "t2016Q3.info()"
   ]
  },
  {
   "cell_type": "code",
   "execution_count": 106,
   "metadata": {
    "scrolled": false
   },
   "outputs": [
    {
     "data": {
      "text/html": [
       "<div>\n",
       "<style scoped>\n",
       "    .dataframe tbody tr th:only-of-type {\n",
       "        vertical-align: middle;\n",
       "    }\n",
       "\n",
       "    .dataframe tbody tr th {\n",
       "        vertical-align: top;\n",
       "    }\n",
       "\n",
       "    .dataframe thead th {\n",
       "        text-align: right;\n",
       "    }\n",
       "</style>\n",
       "<table border=\"1\" class=\"dataframe\">\n",
       "  <thead>\n",
       "    <tr style=\"text-align: right;\">\n",
       "      <th></th>\n",
       "      <th>trip_id</th>\n",
       "      <th>start</th>\n",
       "      <th>end</th>\n",
       "      <th>duration</th>\n",
       "      <th>from</th>\n",
       "      <th>to</th>\n",
       "      <th>user_type</th>\n",
       "    </tr>\n",
       "  </thead>\n",
       "  <tbody>\n",
       "    <tr>\n",
       "      <th>365004</th>\n",
       "      <td>622515</td>\n",
       "      <td>2000-01-01 14:40:00</td>\n",
       "      <td>2000-01-01 15:44:00</td>\n",
       "      <td>3794</td>\n",
       "      <td>Front St / Yonge St (Hockey Hall of Fame)</td>\n",
       "      <td>Front St / Yonge St (Hockey Hall of Fame)</td>\n",
       "      <td>Member</td>\n",
       "    </tr>\n",
       "  </tbody>\n",
       "</table>\n",
       "</div>"
      ],
      "text/plain": [
       "        trip_id               start                 end  duration  \\\n",
       "365004   622515 2000-01-01 14:40:00 2000-01-01 15:44:00      3794   \n",
       "\n",
       "                                             from  \\\n",
       "365004  Front St / Yonge St (Hockey Hall of Fame)   \n",
       "\n",
       "                                               to user_type  \n",
       "365004  Front St / Yonge St (Hockey Hall of Fame)    Member  "
      ]
     },
     "execution_count": 106,
     "metadata": {},
     "output_type": "execute_result"
    }
   ],
   "source": [
    "(t2016Q3[t2016Q3.start.dt.year == 2000])"
   ]
  },
  {
   "cell_type": "markdown",
   "metadata": {},
   "source": [
    "## Q1: Which months in 2016 had most rides?"
   ]
  },
  {
   "cell_type": "markdown",
   "metadata": {},
   "source": [
    "### Q4 2016"
   ]
  },
  {
   "cell_type": "code",
   "execution_count": 107,
   "metadata": {},
   "outputs": [
    {
     "name": "stdout",
     "output_type": "stream",
     "text": [
      "<class 'pandas.core.frame.DataFrame'>\n",
      "RangeIndex: 217569 entries, 0 to 217568\n",
      "Data columns (total 7 columns):\n",
      "trip_id      217569 non-null int64\n",
      "start        217569 non-null datetime64[ns]\n",
      "end          217569 non-null datetime64[ns]\n",
      "duration     217569 non-null int64\n",
      "from         217567 non-null object\n",
      "to           217567 non-null object\n",
      "user_type    217569 non-null object\n",
      "dtypes: datetime64[ns](2), int64(2), object(3)\n",
      "memory usage: 11.6+ MB\n"
     ]
    }
   ],
   "source": [
    "t2016Q4.info()"
   ]
  },
  {
   "cell_type": "code",
   "execution_count": 108,
   "metadata": {},
   "outputs": [
    {
     "data": {
      "text/html": [
       "<div>\n",
       "<style scoped>\n",
       "    .dataframe tbody tr th:only-of-type {\n",
       "        vertical-align: middle;\n",
       "    }\n",
       "\n",
       "    .dataframe tbody tr th {\n",
       "        vertical-align: top;\n",
       "    }\n",
       "\n",
       "    .dataframe thead th {\n",
       "        text-align: right;\n",
       "    }\n",
       "</style>\n",
       "<table border=\"1\" class=\"dataframe\">\n",
       "  <thead>\n",
       "    <tr style=\"text-align: right;\">\n",
       "      <th></th>\n",
       "      <th>trip_id</th>\n",
       "      <th>start</th>\n",
       "      <th>end</th>\n",
       "      <th>duration</th>\n",
       "      <th>from</th>\n",
       "      <th>to</th>\n",
       "      <th>user_type</th>\n",
       "    </tr>\n",
       "  </thead>\n",
       "  <tbody>\n",
       "    <tr>\n",
       "      <th>0</th>\n",
       "      <td>462305</td>\n",
       "      <td>2016-10-01 00:00:00</td>\n",
       "      <td>2016-10-01 00:07:00</td>\n",
       "      <td>394</td>\n",
       "      <td>Queens Quay W / Dan Leckie Way</td>\n",
       "      <td>Fort York Blvd / Garrison Rd</td>\n",
       "      <td>Casual</td>\n",
       "    </tr>\n",
       "    <tr>\n",
       "      <th>1</th>\n",
       "      <td>462306</td>\n",
       "      <td>2016-10-01 00:00:00</td>\n",
       "      <td>2016-10-01 00:09:00</td>\n",
       "      <td>533</td>\n",
       "      <td>Sherbourne St / Wellesley St</td>\n",
       "      <td>Edward St / Yonge St</td>\n",
       "      <td>Member</td>\n",
       "    </tr>\n",
       "    <tr>\n",
       "      <th>2</th>\n",
       "      <td>462307</td>\n",
       "      <td>2016-10-01 00:00:00</td>\n",
       "      <td>2016-10-01 00:07:00</td>\n",
       "      <td>383</td>\n",
       "      <td>Queens Quay W / Dan Leckie Way</td>\n",
       "      <td>Fort York Blvd / Garrison Rd</td>\n",
       "      <td>Casual</td>\n",
       "    </tr>\n",
       "    <tr>\n",
       "      <th>3</th>\n",
       "      <td>462308</td>\n",
       "      <td>2016-10-01 00:01:00</td>\n",
       "      <td>2016-10-01 00:27:00</td>\n",
       "      <td>1557</td>\n",
       "      <td>Cherry St / Distillery Ln</td>\n",
       "      <td>Fort York  Blvd / Capreol Crt</td>\n",
       "      <td>Casual</td>\n",
       "    </tr>\n",
       "    <tr>\n",
       "      <th>4</th>\n",
       "      <td>462309</td>\n",
       "      <td>2016-10-01 00:01:00</td>\n",
       "      <td>2016-10-01 00:27:00</td>\n",
       "      <td>1547</td>\n",
       "      <td>Cherry St / Distillery Ln</td>\n",
       "      <td>Fort York  Blvd / Capreol Crt</td>\n",
       "      <td>Casual</td>\n",
       "    </tr>\n",
       "  </tbody>\n",
       "</table>\n",
       "</div>"
      ],
      "text/plain": [
       "   trip_id               start                 end  duration  \\\n",
       "0   462305 2016-10-01 00:00:00 2016-10-01 00:07:00       394   \n",
       "1   462306 2016-10-01 00:00:00 2016-10-01 00:09:00       533   \n",
       "2   462307 2016-10-01 00:00:00 2016-10-01 00:07:00       383   \n",
       "3   462308 2016-10-01 00:01:00 2016-10-01 00:27:00      1557   \n",
       "4   462309 2016-10-01 00:01:00 2016-10-01 00:27:00      1547   \n",
       "\n",
       "                             from                             to user_type  \n",
       "0  Queens Quay W / Dan Leckie Way   Fort York Blvd / Garrison Rd    Casual  \n",
       "1    Sherbourne St / Wellesley St           Edward St / Yonge St    Member  \n",
       "2  Queens Quay W / Dan Leckie Way   Fort York Blvd / Garrison Rd    Casual  \n",
       "3       Cherry St / Distillery Ln  Fort York  Blvd / Capreol Crt    Casual  \n",
       "4       Cherry St / Distillery Ln  Fort York  Blvd / Capreol Crt    Casual  "
      ]
     },
     "execution_count": 108,
     "metadata": {},
     "output_type": "execute_result"
    }
   ],
   "source": [
    "t2016Q4.head()"
   ]
  },
  {
   "cell_type": "code",
   "execution_count": 109,
   "metadata": {},
   "outputs": [
    {
     "data": {
      "text/html": [
       "<div>\n",
       "<style scoped>\n",
       "    .dataframe tbody tr th:only-of-type {\n",
       "        vertical-align: middle;\n",
       "    }\n",
       "\n",
       "    .dataframe tbody tr th {\n",
       "        vertical-align: top;\n",
       "    }\n",
       "\n",
       "    .dataframe thead th {\n",
       "        text-align: right;\n",
       "    }\n",
       "</style>\n",
       "<table border=\"1\" class=\"dataframe\">\n",
       "  <thead>\n",
       "    <tr style=\"text-align: right;\">\n",
       "      <th></th>\n",
       "      <th>trip_id</th>\n",
       "      <th>start</th>\n",
       "      <th>end</th>\n",
       "      <th>duration</th>\n",
       "      <th>from</th>\n",
       "      <th>to</th>\n",
       "      <th>user_type</th>\n",
       "      <th>start_month</th>\n",
       "    </tr>\n",
       "  </thead>\n",
       "  <tbody>\n",
       "    <tr>\n",
       "      <th>0</th>\n",
       "      <td>462305</td>\n",
       "      <td>2016-10-01 00:00:00</td>\n",
       "      <td>2016-10-01 00:07:00</td>\n",
       "      <td>394</td>\n",
       "      <td>Queens Quay W / Dan Leckie Way</td>\n",
       "      <td>Fort York Blvd / Garrison Rd</td>\n",
       "      <td>Casual</td>\n",
       "      <td>October</td>\n",
       "    </tr>\n",
       "    <tr>\n",
       "      <th>1</th>\n",
       "      <td>462306</td>\n",
       "      <td>2016-10-01 00:00:00</td>\n",
       "      <td>2016-10-01 00:09:00</td>\n",
       "      <td>533</td>\n",
       "      <td>Sherbourne St / Wellesley St</td>\n",
       "      <td>Edward St / Yonge St</td>\n",
       "      <td>Member</td>\n",
       "      <td>October</td>\n",
       "    </tr>\n",
       "    <tr>\n",
       "      <th>2</th>\n",
       "      <td>462307</td>\n",
       "      <td>2016-10-01 00:00:00</td>\n",
       "      <td>2016-10-01 00:07:00</td>\n",
       "      <td>383</td>\n",
       "      <td>Queens Quay W / Dan Leckie Way</td>\n",
       "      <td>Fort York Blvd / Garrison Rd</td>\n",
       "      <td>Casual</td>\n",
       "      <td>October</td>\n",
       "    </tr>\n",
       "    <tr>\n",
       "      <th>3</th>\n",
       "      <td>462308</td>\n",
       "      <td>2016-10-01 00:01:00</td>\n",
       "      <td>2016-10-01 00:27:00</td>\n",
       "      <td>1557</td>\n",
       "      <td>Cherry St / Distillery Ln</td>\n",
       "      <td>Fort York  Blvd / Capreol Crt</td>\n",
       "      <td>Casual</td>\n",
       "      <td>October</td>\n",
       "    </tr>\n",
       "    <tr>\n",
       "      <th>4</th>\n",
       "      <td>462309</td>\n",
       "      <td>2016-10-01 00:01:00</td>\n",
       "      <td>2016-10-01 00:27:00</td>\n",
       "      <td>1547</td>\n",
       "      <td>Cherry St / Distillery Ln</td>\n",
       "      <td>Fort York  Blvd / Capreol Crt</td>\n",
       "      <td>Casual</td>\n",
       "      <td>October</td>\n",
       "    </tr>\n",
       "  </tbody>\n",
       "</table>\n",
       "</div>"
      ],
      "text/plain": [
       "   trip_id               start                 end  duration  \\\n",
       "0   462305 2016-10-01 00:00:00 2016-10-01 00:07:00       394   \n",
       "1   462306 2016-10-01 00:00:00 2016-10-01 00:09:00       533   \n",
       "2   462307 2016-10-01 00:00:00 2016-10-01 00:07:00       383   \n",
       "3   462308 2016-10-01 00:01:00 2016-10-01 00:27:00      1557   \n",
       "4   462309 2016-10-01 00:01:00 2016-10-01 00:27:00      1547   \n",
       "\n",
       "                             from                             to user_type  \\\n",
       "0  Queens Quay W / Dan Leckie Way   Fort York Blvd / Garrison Rd    Casual   \n",
       "1    Sherbourne St / Wellesley St           Edward St / Yonge St    Member   \n",
       "2  Queens Quay W / Dan Leckie Way   Fort York Blvd / Garrison Rd    Casual   \n",
       "3       Cherry St / Distillery Ln  Fort York  Blvd / Capreol Crt    Casual   \n",
       "4       Cherry St / Distillery Ln  Fort York  Blvd / Capreol Crt    Casual   \n",
       "\n",
       "  start_month  \n",
       "0     October  \n",
       "1     October  \n",
       "2     October  \n",
       "3     October  \n",
       "4     October  "
      ]
     },
     "execution_count": 109,
     "metadata": {},
     "output_type": "execute_result"
    }
   ],
   "source": [
    "t2016Q4['start_month'] = t2016Q4.start.dt.month_name()\n",
    "t2016Q4.head()"
   ]
  },
  {
   "cell_type": "code",
   "execution_count": 110,
   "metadata": {},
   "outputs": [
    {
     "data": {
      "text/html": [
       "<div>\n",
       "<style scoped>\n",
       "    .dataframe tbody tr th:only-of-type {\n",
       "        vertical-align: middle;\n",
       "    }\n",
       "\n",
       "    .dataframe tbody tr th {\n",
       "        vertical-align: top;\n",
       "    }\n",
       "\n",
       "    .dataframe thead th {\n",
       "        text-align: right;\n",
       "    }\n",
       "</style>\n",
       "<table border=\"1\" class=\"dataframe\">\n",
       "  <thead>\n",
       "    <tr style=\"text-align: right;\">\n",
       "      <th></th>\n",
       "      <th>trip_id</th>\n",
       "      <th>start</th>\n",
       "      <th>end</th>\n",
       "      <th>duration</th>\n",
       "      <th>from</th>\n",
       "      <th>to</th>\n",
       "      <th>user_type</th>\n",
       "    </tr>\n",
       "    <tr>\n",
       "      <th>start_month</th>\n",
       "      <th></th>\n",
       "      <th></th>\n",
       "      <th></th>\n",
       "      <th></th>\n",
       "      <th></th>\n",
       "      <th></th>\n",
       "      <th></th>\n",
       "    </tr>\n",
       "  </thead>\n",
       "  <tbody>\n",
       "    <tr>\n",
       "      <th>December</th>\n",
       "      <td>41605</td>\n",
       "      <td>41605</td>\n",
       "      <td>41605</td>\n",
       "      <td>41605</td>\n",
       "      <td>41605</td>\n",
       "      <td>41605</td>\n",
       "      <td>41605</td>\n",
       "    </tr>\n",
       "    <tr>\n",
       "      <th>November</th>\n",
       "      <td>78666</td>\n",
       "      <td>78666</td>\n",
       "      <td>78666</td>\n",
       "      <td>78666</td>\n",
       "      <td>78666</td>\n",
       "      <td>78666</td>\n",
       "      <td>78666</td>\n",
       "    </tr>\n",
       "    <tr>\n",
       "      <th>October</th>\n",
       "      <td>97298</td>\n",
       "      <td>97298</td>\n",
       "      <td>97298</td>\n",
       "      <td>97298</td>\n",
       "      <td>97296</td>\n",
       "      <td>97296</td>\n",
       "      <td>97298</td>\n",
       "    </tr>\n",
       "  </tbody>\n",
       "</table>\n",
       "</div>"
      ],
      "text/plain": [
       "             trip_id  start    end  duration   from     to  user_type\n",
       "start_month                                                          \n",
       "December       41605  41605  41605     41605  41605  41605      41605\n",
       "November       78666  78666  78666     78666  78666  78666      78666\n",
       "October        97298  97298  97298     97298  97296  97296      97298"
      ]
     },
     "execution_count": 110,
     "metadata": {},
     "output_type": "execute_result"
    }
   ],
   "source": [
    "t2016Q4_grp = t2016Q4.groupby(['start_month']).count()\n",
    "t2016Q4_grp\n",
    "#t2016Q4_grp.sort_values(by=['start_month'],ascending=False)"
   ]
  },
  {
   "cell_type": "markdown",
   "metadata": {},
   "source": [
    "### Q3 2016 "
   ]
  },
  {
   "cell_type": "code",
   "execution_count": 111,
   "metadata": {},
   "outputs": [
    {
     "name": "stdout",
     "output_type": "stream",
     "text": [
      "<class 'pandas.core.frame.DataFrame'>\n",
      "RangeIndex: 367962 entries, 0 to 367961\n",
      "Data columns (total 7 columns):\n",
      "trip_id      367962 non-null int64\n",
      "start        367962 non-null datetime64[ns]\n",
      "end          367962 non-null datetime64[ns]\n",
      "duration     367962 non-null int64\n",
      "from         367959 non-null object\n",
      "to           367960 non-null object\n",
      "user_type    367962 non-null object\n",
      "dtypes: datetime64[ns](2), int64(2), object(3)\n",
      "memory usage: 19.7+ MB\n"
     ]
    }
   ],
   "source": [
    "t2016Q3.info()"
   ]
  },
  {
   "cell_type": "code",
   "execution_count": 112,
   "metadata": {},
   "outputs": [
    {
     "data": {
      "text/html": [
       "<div>\n",
       "<style scoped>\n",
       "    .dataframe tbody tr th:only-of-type {\n",
       "        vertical-align: middle;\n",
       "    }\n",
       "\n",
       "    .dataframe tbody tr th {\n",
       "        vertical-align: top;\n",
       "    }\n",
       "\n",
       "    .dataframe thead th {\n",
       "        text-align: right;\n",
       "    }\n",
       "</style>\n",
       "<table border=\"1\" class=\"dataframe\">\n",
       "  <thead>\n",
       "    <tr style=\"text-align: right;\">\n",
       "      <th></th>\n",
       "      <th>trip_id</th>\n",
       "      <th>start</th>\n",
       "      <th>end</th>\n",
       "      <th>duration</th>\n",
       "      <th>from</th>\n",
       "      <th>to</th>\n",
       "      <th>user_type</th>\n",
       "    </tr>\n",
       "  </thead>\n",
       "  <tbody>\n",
       "    <tr>\n",
       "      <th>0</th>\n",
       "      <td>53279</td>\n",
       "      <td>2016-07-09 01:03:00</td>\n",
       "      <td>2016-07-09 01:15:00</td>\n",
       "      <td>714</td>\n",
       "      <td>Dundas St E / Regent Park Blvd</td>\n",
       "      <td>Danforth Ave / Ellerbeck St</td>\n",
       "      <td>Member</td>\n",
       "    </tr>\n",
       "    <tr>\n",
       "      <th>1</th>\n",
       "      <td>53394</td>\n",
       "      <td>2016-07-09 02:15:00</td>\n",
       "      <td>2016-07-09 02:22:00</td>\n",
       "      <td>417</td>\n",
       "      <td>Riverdale Park North (Broadview Ave)</td>\n",
       "      <td>Dundas St E / Regent Park Blvd</td>\n",
       "      <td>Member</td>\n",
       "    </tr>\n",
       "    <tr>\n",
       "      <th>2</th>\n",
       "      <td>58314</td>\n",
       "      <td>2016-07-10 17:04:00</td>\n",
       "      <td>2016-07-10 17:36:00</td>\n",
       "      <td>1904</td>\n",
       "      <td>Dundas St E / Regent Park Blvd</td>\n",
       "      <td>Queen St W / Close Ave</td>\n",
       "      <td>Member</td>\n",
       "    </tr>\n",
       "    <tr>\n",
       "      <th>3</th>\n",
       "      <td>60784</td>\n",
       "      <td>2016-07-11 01:45:00</td>\n",
       "      <td>2016-07-11 01:58:00</td>\n",
       "      <td>784</td>\n",
       "      <td>Union Station</td>\n",
       "      <td>Dundas St E / Regent Park Blvd</td>\n",
       "      <td>Member</td>\n",
       "    </tr>\n",
       "    <tr>\n",
       "      <th>4</th>\n",
       "      <td>93164</td>\n",
       "      <td>2016-07-18 13:35:00</td>\n",
       "      <td>2016-07-18 13:42:00</td>\n",
       "      <td>443</td>\n",
       "      <td>Front St W / Blue Jays Way</td>\n",
       "      <td>Front St / Yonge St (Hockey Hall of Fame)</td>\n",
       "      <td>Member</td>\n",
       "    </tr>\n",
       "  </tbody>\n",
       "</table>\n",
       "</div>"
      ],
      "text/plain": [
       "   trip_id               start                 end  duration  \\\n",
       "0    53279 2016-07-09 01:03:00 2016-07-09 01:15:00       714   \n",
       "1    53394 2016-07-09 02:15:00 2016-07-09 02:22:00       417   \n",
       "2    58314 2016-07-10 17:04:00 2016-07-10 17:36:00      1904   \n",
       "3    60784 2016-07-11 01:45:00 2016-07-11 01:58:00       784   \n",
       "4    93164 2016-07-18 13:35:00 2016-07-18 13:42:00       443   \n",
       "\n",
       "                                   from  \\\n",
       "0        Dundas St E / Regent Park Blvd   \n",
       "1  Riverdale Park North (Broadview Ave)   \n",
       "2        Dundas St E / Regent Park Blvd   \n",
       "3                         Union Station   \n",
       "4            Front St W / Blue Jays Way   \n",
       "\n",
       "                                          to user_type  \n",
       "0                Danforth Ave / Ellerbeck St    Member  \n",
       "1             Dundas St E / Regent Park Blvd    Member  \n",
       "2                     Queen St W / Close Ave    Member  \n",
       "3             Dundas St E / Regent Park Blvd    Member  \n",
       "4  Front St / Yonge St (Hockey Hall of Fame)    Member  "
      ]
     },
     "execution_count": 112,
     "metadata": {},
     "output_type": "execute_result"
    }
   ],
   "source": [
    "t2016Q3.head()"
   ]
  },
  {
   "cell_type": "code",
   "execution_count": 113,
   "metadata": {},
   "outputs": [],
   "source": [
    "t2016Q3['start_month'] = t2016Q3.start.dt.month_name()"
   ]
  },
  {
   "cell_type": "code",
   "execution_count": 114,
   "metadata": {},
   "outputs": [
    {
     "data": {
      "text/html": [
       "<div>\n",
       "<style scoped>\n",
       "    .dataframe tbody tr th:only-of-type {\n",
       "        vertical-align: middle;\n",
       "    }\n",
       "\n",
       "    .dataframe tbody tr th {\n",
       "        vertical-align: top;\n",
       "    }\n",
       "\n",
       "    .dataframe thead th {\n",
       "        text-align: right;\n",
       "    }\n",
       "</style>\n",
       "<table border=\"1\" class=\"dataframe\">\n",
       "  <thead>\n",
       "    <tr style=\"text-align: right;\">\n",
       "      <th></th>\n",
       "      <th>trip_id</th>\n",
       "      <th>start</th>\n",
       "      <th>end</th>\n",
       "      <th>duration</th>\n",
       "      <th>from</th>\n",
       "      <th>to</th>\n",
       "      <th>user_type</th>\n",
       "      <th>start_month</th>\n",
       "    </tr>\n",
       "  </thead>\n",
       "  <tbody>\n",
       "    <tr>\n",
       "      <th>0</th>\n",
       "      <td>53279</td>\n",
       "      <td>2016-07-09 01:03:00</td>\n",
       "      <td>2016-07-09 01:15:00</td>\n",
       "      <td>714</td>\n",
       "      <td>Dundas St E / Regent Park Blvd</td>\n",
       "      <td>Danforth Ave / Ellerbeck St</td>\n",
       "      <td>Member</td>\n",
       "      <td>July</td>\n",
       "    </tr>\n",
       "    <tr>\n",
       "      <th>1</th>\n",
       "      <td>53394</td>\n",
       "      <td>2016-07-09 02:15:00</td>\n",
       "      <td>2016-07-09 02:22:00</td>\n",
       "      <td>417</td>\n",
       "      <td>Riverdale Park North (Broadview Ave)</td>\n",
       "      <td>Dundas St E / Regent Park Blvd</td>\n",
       "      <td>Member</td>\n",
       "      <td>July</td>\n",
       "    </tr>\n",
       "    <tr>\n",
       "      <th>2</th>\n",
       "      <td>58314</td>\n",
       "      <td>2016-07-10 17:04:00</td>\n",
       "      <td>2016-07-10 17:36:00</td>\n",
       "      <td>1904</td>\n",
       "      <td>Dundas St E / Regent Park Blvd</td>\n",
       "      <td>Queen St W / Close Ave</td>\n",
       "      <td>Member</td>\n",
       "      <td>July</td>\n",
       "    </tr>\n",
       "    <tr>\n",
       "      <th>3</th>\n",
       "      <td>60784</td>\n",
       "      <td>2016-07-11 01:45:00</td>\n",
       "      <td>2016-07-11 01:58:00</td>\n",
       "      <td>784</td>\n",
       "      <td>Union Station</td>\n",
       "      <td>Dundas St E / Regent Park Blvd</td>\n",
       "      <td>Member</td>\n",
       "      <td>July</td>\n",
       "    </tr>\n",
       "    <tr>\n",
       "      <th>4</th>\n",
       "      <td>93164</td>\n",
       "      <td>2016-07-18 13:35:00</td>\n",
       "      <td>2016-07-18 13:42:00</td>\n",
       "      <td>443</td>\n",
       "      <td>Front St W / Blue Jays Way</td>\n",
       "      <td>Front St / Yonge St (Hockey Hall of Fame)</td>\n",
       "      <td>Member</td>\n",
       "      <td>July</td>\n",
       "    </tr>\n",
       "  </tbody>\n",
       "</table>\n",
       "</div>"
      ],
      "text/plain": [
       "   trip_id               start                 end  duration  \\\n",
       "0    53279 2016-07-09 01:03:00 2016-07-09 01:15:00       714   \n",
       "1    53394 2016-07-09 02:15:00 2016-07-09 02:22:00       417   \n",
       "2    58314 2016-07-10 17:04:00 2016-07-10 17:36:00      1904   \n",
       "3    60784 2016-07-11 01:45:00 2016-07-11 01:58:00       784   \n",
       "4    93164 2016-07-18 13:35:00 2016-07-18 13:42:00       443   \n",
       "\n",
       "                                   from  \\\n",
       "0        Dundas St E / Regent Park Blvd   \n",
       "1  Riverdale Park North (Broadview Ave)   \n",
       "2        Dundas St E / Regent Park Blvd   \n",
       "3                         Union Station   \n",
       "4            Front St W / Blue Jays Way   \n",
       "\n",
       "                                          to user_type start_month  \n",
       "0                Danforth Ave / Ellerbeck St    Member        July  \n",
       "1             Dundas St E / Regent Park Blvd    Member        July  \n",
       "2                     Queen St W / Close Ave    Member        July  \n",
       "3             Dundas St E / Regent Park Blvd    Member        July  \n",
       "4  Front St / Yonge St (Hockey Hall of Fame)    Member        July  "
      ]
     },
     "execution_count": 114,
     "metadata": {},
     "output_type": "execute_result"
    }
   ],
   "source": [
    "t2016Q3.head()"
   ]
  },
  {
   "cell_type": "markdown",
   "metadata": {},
   "source": [
    "## Combine the two datasets "
   ]
  },
  {
   "cell_type": "code",
   "execution_count": 24,
   "metadata": {},
   "outputs": [
    {
     "name": "stdout",
     "output_type": "stream",
     "text": [
      "<class 'pandas.core.frame.DataFrame'>\n",
      "Int64Index: 585530 entries, 0 to 217568\n",
      "Data columns (total 8 columns):\n",
      "trip_id        585530 non-null int64\n",
      "start          585530 non-null datetime64[ns]\n",
      "end            585530 non-null datetime64[ns]\n",
      "duration       585530 non-null int64\n",
      "from           585525 non-null object\n",
      "to             585526 non-null object\n",
      "user_type      585530 non-null object\n",
      "start_month    585530 non-null object\n",
      "dtypes: datetime64[ns](2), int64(2), object(4)\n",
      "memory usage: 40.2+ MB\n"
     ]
    }
   ],
   "source": [
    "Q3Q4 = pd.concat([t2016Q3,t2016Q4])\n",
    "Q3Q4.info()"
   ]
  },
  {
   "cell_type": "code",
   "execution_count": 71,
   "metadata": {},
   "outputs": [],
   "source": [
    "TObike = t2016Q3.append(t2016Q4)"
   ]
  },
  {
   "cell_type": "code",
   "execution_count": 26,
   "metadata": {},
   "outputs": [
    {
     "data": {
      "text/html": [
       "<div>\n",
       "<style scoped>\n",
       "    .dataframe tbody tr th:only-of-type {\n",
       "        vertical-align: middle;\n",
       "    }\n",
       "\n",
       "    .dataframe tbody tr th {\n",
       "        vertical-align: top;\n",
       "    }\n",
       "\n",
       "    .dataframe thead th {\n",
       "        text-align: right;\n",
       "    }\n",
       "</style>\n",
       "<table border=\"1\" class=\"dataframe\">\n",
       "  <thead>\n",
       "    <tr style=\"text-align: right;\">\n",
       "      <th></th>\n",
       "      <th>trip_id</th>\n",
       "      <th>start</th>\n",
       "      <th>end</th>\n",
       "      <th>duration</th>\n",
       "      <th>from</th>\n",
       "      <th>to</th>\n",
       "      <th>user_type</th>\n",
       "      <th>start_month</th>\n",
       "      <th>monthnum</th>\n",
       "    </tr>\n",
       "  </thead>\n",
       "  <tbody>\n",
       "    <tr>\n",
       "      <th>0</th>\n",
       "      <td>53279</td>\n",
       "      <td>2016-07-09 01:03:00</td>\n",
       "      <td>2016-07-09 01:15:00</td>\n",
       "      <td>714</td>\n",
       "      <td>Dundas St E / Regent Park Blvd</td>\n",
       "      <td>Danforth Ave / Ellerbeck St</td>\n",
       "      <td>Member</td>\n",
       "      <td>July</td>\n",
       "      <td>7</td>\n",
       "    </tr>\n",
       "    <tr>\n",
       "      <th>113490</th>\n",
       "      <td>84604</td>\n",
       "      <td>2016-07-16 17:10:00</td>\n",
       "      <td>2016-07-16 17:19:00</td>\n",
       "      <td>509</td>\n",
       "      <td>Queen St W / Portland St</td>\n",
       "      <td>Simcoe St / Queen St W</td>\n",
       "      <td>Member</td>\n",
       "      <td>July</td>\n",
       "      <td>7</td>\n",
       "    </tr>\n",
       "    <tr>\n",
       "      <th>113491</th>\n",
       "      <td>39782</td>\n",
       "      <td>2016-07-05 21:27:00</td>\n",
       "      <td>2016-07-05 21:40:00</td>\n",
       "      <td>801</td>\n",
       "      <td>Simcoe St / Dundas St W</td>\n",
       "      <td>Fort York  Blvd / Capreol Crt</td>\n",
       "      <td>Member</td>\n",
       "      <td>July</td>\n",
       "      <td>7</td>\n",
       "    </tr>\n",
       "    <tr>\n",
       "      <th>113492</th>\n",
       "      <td>42112</td>\n",
       "      <td>2016-07-06 13:16:00</td>\n",
       "      <td>2016-07-06 13:28:00</td>\n",
       "      <td>743</td>\n",
       "      <td>Fort York  Blvd / Capreol Crt</td>\n",
       "      <td>Simcoe St / Dundas St W</td>\n",
       "      <td>Member</td>\n",
       "      <td>July</td>\n",
       "      <td>7</td>\n",
       "    </tr>\n",
       "    <tr>\n",
       "      <th>113493</th>\n",
       "      <td>46270</td>\n",
       "      <td>2016-07-07 13:14:00</td>\n",
       "      <td>2016-07-07 13:27:00</td>\n",
       "      <td>733</td>\n",
       "      <td>Fort York  Blvd / Capreol Crt</td>\n",
       "      <td>Simcoe St / Dundas St W</td>\n",
       "      <td>Member</td>\n",
       "      <td>July</td>\n",
       "      <td>7</td>\n",
       "    </tr>\n",
       "  </tbody>\n",
       "</table>\n",
       "</div>"
      ],
      "text/plain": [
       "        trip_id               start                 end  duration  \\\n",
       "0         53279 2016-07-09 01:03:00 2016-07-09 01:15:00       714   \n",
       "113490    84604 2016-07-16 17:10:00 2016-07-16 17:19:00       509   \n",
       "113491    39782 2016-07-05 21:27:00 2016-07-05 21:40:00       801   \n",
       "113492    42112 2016-07-06 13:16:00 2016-07-06 13:28:00       743   \n",
       "113493    46270 2016-07-07 13:14:00 2016-07-07 13:27:00       733   \n",
       "\n",
       "                                  from                             to  \\\n",
       "0       Dundas St E / Regent Park Blvd    Danforth Ave / Ellerbeck St   \n",
       "113490        Queen St W / Portland St         Simcoe St / Queen St W   \n",
       "113491         Simcoe St / Dundas St W  Fort York  Blvd / Capreol Crt   \n",
       "113492   Fort York  Blvd / Capreol Crt        Simcoe St / Dundas St W   \n",
       "113493   Fort York  Blvd / Capreol Crt        Simcoe St / Dundas St W   \n",
       "\n",
       "       user_type start_month  monthnum  \n",
       "0         Member        July         7  \n",
       "113490    Member        July         7  \n",
       "113491    Member        July         7  \n",
       "113492    Member        July         7  \n",
       "113493    Member        July         7  "
      ]
     },
     "execution_count": 26,
     "metadata": {},
     "output_type": "execute_result"
    }
   ],
   "source": [
    "Q3Q4_sorted = Q3Q4.sort_values(by=['monthnum'])\n",
    "Q3Q4_sorted.head()"
   ]
  },
  {
   "cell_type": "code",
   "execution_count": 27,
   "metadata": {},
   "outputs": [
    {
     "data": {
      "text/html": [
       "<div>\n",
       "<style scoped>\n",
       "    .dataframe tbody tr th:only-of-type {\n",
       "        vertical-align: middle;\n",
       "    }\n",
       "\n",
       "    .dataframe tbody tr th {\n",
       "        vertical-align: top;\n",
       "    }\n",
       "\n",
       "    .dataframe thead th {\n",
       "        text-align: right;\n",
       "    }\n",
       "</style>\n",
       "<table border=\"1\" class=\"dataframe\">\n",
       "  <thead>\n",
       "    <tr style=\"text-align: right;\">\n",
       "      <th></th>\n",
       "      <th></th>\n",
       "      <th>trip_id</th>\n",
       "      <th>start</th>\n",
       "      <th>end</th>\n",
       "      <th>duration</th>\n",
       "      <th>from</th>\n",
       "      <th>to</th>\n",
       "      <th>start_month</th>\n",
       "    </tr>\n",
       "    <tr>\n",
       "      <th>monthnum</th>\n",
       "      <th>user_type</th>\n",
       "      <th></th>\n",
       "      <th></th>\n",
       "      <th></th>\n",
       "      <th></th>\n",
       "      <th></th>\n",
       "      <th></th>\n",
       "      <th></th>\n",
       "    </tr>\n",
       "  </thead>\n",
       "  <tbody>\n",
       "    <tr>\n",
       "      <th rowspan=\"2\" valign=\"top\">7</th>\n",
       "      <th>Casual</th>\n",
       "      <td>41366</td>\n",
       "      <td>41366</td>\n",
       "      <td>41366</td>\n",
       "      <td>41366</td>\n",
       "      <td>41366</td>\n",
       "      <td>41366</td>\n",
       "      <td>41366</td>\n",
       "    </tr>\n",
       "    <tr>\n",
       "      <th>Member</th>\n",
       "      <td>66018</td>\n",
       "      <td>66018</td>\n",
       "      <td>66018</td>\n",
       "      <td>66018</td>\n",
       "      <td>66018</td>\n",
       "      <td>66018</td>\n",
       "      <td>66018</td>\n",
       "    </tr>\n",
       "    <tr>\n",
       "      <th rowspan=\"2\" valign=\"top\">8</th>\n",
       "      <th>Casual</th>\n",
       "      <td>45960</td>\n",
       "      <td>45960</td>\n",
       "      <td>45960</td>\n",
       "      <td>45960</td>\n",
       "      <td>45960</td>\n",
       "      <td>45960</td>\n",
       "      <td>45960</td>\n",
       "    </tr>\n",
       "    <tr>\n",
       "      <th>Member</th>\n",
       "      <td>84477</td>\n",
       "      <td>84477</td>\n",
       "      <td>84477</td>\n",
       "      <td>84477</td>\n",
       "      <td>84477</td>\n",
       "      <td>84477</td>\n",
       "      <td>84477</td>\n",
       "    </tr>\n",
       "    <tr>\n",
       "      <th rowspan=\"2\" valign=\"top\">9</th>\n",
       "      <th>Casual</th>\n",
       "      <td>35158</td>\n",
       "      <td>35158</td>\n",
       "      <td>35158</td>\n",
       "      <td>35158</td>\n",
       "      <td>35157</td>\n",
       "      <td>35157</td>\n",
       "      <td>35158</td>\n",
       "    </tr>\n",
       "    <tr>\n",
       "      <th>Member</th>\n",
       "      <td>94982</td>\n",
       "      <td>94982</td>\n",
       "      <td>94982</td>\n",
       "      <td>94982</td>\n",
       "      <td>94980</td>\n",
       "      <td>94981</td>\n",
       "      <td>94982</td>\n",
       "    </tr>\n",
       "    <tr>\n",
       "      <th rowspan=\"2\" valign=\"top\">10</th>\n",
       "      <th>Casual</th>\n",
       "      <td>16770</td>\n",
       "      <td>16770</td>\n",
       "      <td>16770</td>\n",
       "      <td>16770</td>\n",
       "      <td>16769</td>\n",
       "      <td>16769</td>\n",
       "      <td>16770</td>\n",
       "    </tr>\n",
       "    <tr>\n",
       "      <th>Member</th>\n",
       "      <td>80528</td>\n",
       "      <td>80528</td>\n",
       "      <td>80528</td>\n",
       "      <td>80528</td>\n",
       "      <td>80527</td>\n",
       "      <td>80527</td>\n",
       "      <td>80528</td>\n",
       "    </tr>\n",
       "    <tr>\n",
       "      <th rowspan=\"2\" valign=\"top\">11</th>\n",
       "      <th>Casual</th>\n",
       "      <td>7050</td>\n",
       "      <td>7050</td>\n",
       "      <td>7050</td>\n",
       "      <td>7050</td>\n",
       "      <td>7050</td>\n",
       "      <td>7050</td>\n",
       "      <td>7050</td>\n",
       "    </tr>\n",
       "    <tr>\n",
       "      <th>Member</th>\n",
       "      <td>71616</td>\n",
       "      <td>71616</td>\n",
       "      <td>71616</td>\n",
       "      <td>71616</td>\n",
       "      <td>71616</td>\n",
       "      <td>71616</td>\n",
       "      <td>71616</td>\n",
       "    </tr>\n",
       "    <tr>\n",
       "      <th rowspan=\"2\" valign=\"top\">12</th>\n",
       "      <th>Casual</th>\n",
       "      <td>2534</td>\n",
       "      <td>2534</td>\n",
       "      <td>2534</td>\n",
       "      <td>2534</td>\n",
       "      <td>2534</td>\n",
       "      <td>2534</td>\n",
       "      <td>2534</td>\n",
       "    </tr>\n",
       "    <tr>\n",
       "      <th>Member</th>\n",
       "      <td>39071</td>\n",
       "      <td>39071</td>\n",
       "      <td>39071</td>\n",
       "      <td>39071</td>\n",
       "      <td>39071</td>\n",
       "      <td>39071</td>\n",
       "      <td>39071</td>\n",
       "    </tr>\n",
       "  </tbody>\n",
       "</table>\n",
       "</div>"
      ],
      "text/plain": [
       "                    trip_id  start    end  duration   from     to  start_month\n",
       "monthnum user_type                                                            \n",
       "7        Casual       41366  41366  41366     41366  41366  41366        41366\n",
       "         Member       66018  66018  66018     66018  66018  66018        66018\n",
       "8        Casual       45960  45960  45960     45960  45960  45960        45960\n",
       "         Member       84477  84477  84477     84477  84477  84477        84477\n",
       "9        Casual       35158  35158  35158     35158  35157  35157        35158\n",
       "         Member       94982  94982  94982     94982  94980  94981        94982\n",
       "10       Casual       16770  16770  16770     16770  16769  16769        16770\n",
       "         Member       80528  80528  80528     80528  80527  80527        80528\n",
       "11       Casual        7050   7050   7050      7050   7050   7050         7050\n",
       "         Member       71616  71616  71616     71616  71616  71616        71616\n",
       "12       Casual        2534   2534   2534      2534   2534   2534         2534\n",
       "         Member       39071  39071  39071     39071  39071  39071        39071"
      ]
     },
     "execution_count": 27,
     "metadata": {},
     "output_type": "execute_result"
    }
   ],
   "source": [
    "Q3Q4_grp = Q3Q4_sorted.groupby(['monthnum','user_type']).count()\n",
    "Q3Q4_grp"
   ]
  },
  {
   "cell_type": "code",
   "execution_count": 28,
   "metadata": {
    "scrolled": false
   },
   "outputs": [
    {
     "data": {
      "text/html": [
       "<div>\n",
       "<style scoped>\n",
       "    .dataframe tbody tr th:only-of-type {\n",
       "        vertical-align: middle;\n",
       "    }\n",
       "\n",
       "    .dataframe tbody tr th {\n",
       "        vertical-align: top;\n",
       "    }\n",
       "\n",
       "    .dataframe thead th {\n",
       "        text-align: right;\n",
       "    }\n",
       "</style>\n",
       "<table border=\"1\" class=\"dataframe\">\n",
       "  <thead>\n",
       "    <tr style=\"text-align: right;\">\n",
       "      <th>user_type</th>\n",
       "      <th>Casual</th>\n",
       "      <th>Member</th>\n",
       "    </tr>\n",
       "    <tr>\n",
       "      <th>monthnum</th>\n",
       "      <th></th>\n",
       "      <th></th>\n",
       "    </tr>\n",
       "  </thead>\n",
       "  <tbody>\n",
       "    <tr>\n",
       "      <th>7</th>\n",
       "      <td>41366</td>\n",
       "      <td>66018</td>\n",
       "    </tr>\n",
       "    <tr>\n",
       "      <th>8</th>\n",
       "      <td>45960</td>\n",
       "      <td>84477</td>\n",
       "    </tr>\n",
       "    <tr>\n",
       "      <th>9</th>\n",
       "      <td>35158</td>\n",
       "      <td>94982</td>\n",
       "    </tr>\n",
       "    <tr>\n",
       "      <th>10</th>\n",
       "      <td>16770</td>\n",
       "      <td>80528</td>\n",
       "    </tr>\n",
       "    <tr>\n",
       "      <th>11</th>\n",
       "      <td>7050</td>\n",
       "      <td>71616</td>\n",
       "    </tr>\n",
       "    <tr>\n",
       "      <th>12</th>\n",
       "      <td>2534</td>\n",
       "      <td>39071</td>\n",
       "    </tr>\n",
       "  </tbody>\n",
       "</table>\n",
       "</div>"
      ],
      "text/plain": [
       "user_type  Casual  Member\n",
       "monthnum                 \n",
       "7           41366   66018\n",
       "8           45960   84477\n",
       "9           35158   94982\n",
       "10          16770   80528\n",
       "11           7050   71616\n",
       "12           2534   39071"
      ]
     },
     "execution_count": 28,
     "metadata": {},
     "output_type": "execute_result"
    }
   ],
   "source": [
    "#plt.style.use(style='seaborn')\n",
    "\n",
    "#n_grp = Q3Q4_grp['']\n",
    "Y = Q3Q4_grp['start'].unstack() #This will separate Casual vs Member based on start time counts\n",
    "Y\n",
    "#X = np.arange() \n",
    "#fig, ax = plt.subplots(figsize=(20,10))\n",
    "\n",
    "#Q3Q4_grp['start'].unstack().plot(kind='bar')"
   ]
  },
  {
   "cell_type": "code",
   "execution_count": 29,
   "metadata": {
    "scrolled": false
   },
   "outputs": [
    {
     "data": {
      "image/png": "[encoded data removed]",
      "text/plain": [
       "<Figure size 1440x720 with 1 Axes>"
      ]
     },
     "metadata": {},
     "output_type": "display_data"
    }
   ],
   "source": [
    "import matplotlib.patches as mpatches\n",
    "plt.style.use(style='seaborn')\n",
    "fig, ax = plt.subplots(figsize=(20,10))\n",
    "\n",
    "n_grp = Q3Q4_grp['start'].unstack().Casual.size\n",
    "x_pos = np.arange(n_grp)\n",
    "\n",
    "width = 0.25\n",
    "\n",
    "ax.set(xticks=x_pos+width/4,xticklabels=Q3Q4_grp.unstack().index)\n",
    "\n",
    "ax.set_title('Number of bikeshare rides by month in Q3/Q4 of 2016', fontsize=25)\n",
    "ax.set_xlabel('Months July to December', fontsize=25)\n",
    "ax.set_xticklabels(Q3Q4_grp.unstack().index,fontdict={'fontsize':20})\n",
    "ax.set_ylabel('Total Number of Riders', fontsize=25)\n",
    "\n",
    "#Patches\n",
    "green_patch = mpatches.Patch(color='green',label='Member')\n",
    "blue_patch = mpatches.Patch(color='blue',label='Casual')\n",
    "\n",
    "ax.bar(x_pos, Q3Q4_grp['start'].unstack().Casual, width/2, color='blue',\\\n",
    "       align='center',label='months')\n",
    "ax.bar(x_pos+width/2, Q3Q4_grp['start'].unstack().Member, width/2, color='green',\\\n",
    "       align='center',label='months')\n",
    "plt.legend(handles=[green_patch,blue_patch])\n",
    "plt.show();"
   ]
  },
  {
   "cell_type": "markdown",
   "metadata": {},
   "source": [
    "## Machine Learning - Training model to check whether Member or Casual "
   ]
  },
  {
   "cell_type": "markdown",
   "metadata": {},
   "source": [
    "X = Months\n",
    "Y = Member/Casual Rider Count"
   ]
  },
  {
   "cell_type": "code",
   "execution_count": 30,
   "metadata": {},
   "outputs": [],
   "source": [
    "Yc = Q3Q4_grp['start'].unstack().Casual\n",
    "Ym = Q3Q4_grp['start'].unstack().Member\n",
    "X = np.arange(Q3Q4_grp['start'].unstack().Casual.size)"
   ]
  },
  {
   "cell_type": "code",
   "execution_count": 31,
   "metadata": {},
   "outputs": [
    {
     "data": {
      "image/png": "[encoded data removed]",
      "text/plain": [
       "<Figure size 1440x720 with 1 Axes>"
      ]
     },
     "metadata": {},
     "output_type": "display_data"
    }
   ],
   "source": [
    "f, ax = plt.subplots(figsize=(20,10))\n",
    "\n",
    "ax.set(title='Number of bikeshare rides by month in Q3/Q4 of 2016',\\\n",
    "      xticks=x_pos+width/4,\\\n",
    "      xticklabels=Q3Q4_grp.unstack().index,\\\n",
    "      xlabel='Months July to December',\\\n",
    "      ylabel='Total number of riders')\n",
    "\n",
    "ax.scatter(X,Yc,label='Casual')\n",
    "ax.scatter(X,Ym,label='Member',color='green');"
   ]
  },
  {
   "cell_type": "code",
   "execution_count": 32,
   "metadata": {},
   "outputs": [
    {
     "name": "stderr",
     "output_type": "stream",
     "text": [
      "/Users/Jack/anaconda3/envs/Data_Science/lib/python3.7/site-packages/sklearn/utils/__init__.py:4: DeprecationWarning: Using or importing the ABCs from 'collections' instead of from 'collections.abc' is deprecated, and in 3.8 it will stop working\n",
      "  from collections import Sequence\n"
     ]
    },
    {
     "data": {
      "image/png": "[encoded data removed]",
      "text/plain": [
       "<Figure size 1440x720 with 1 Axes>"
      ]
     },
     "metadata": {},
     "output_type": "display_data"
    }
   ],
   "source": [
    "from sklearn.linear_model import LinearRegression\n",
    "from sklearn.metrics import accuracy_score\n",
    "\n",
    "#First model - Linear Regression Model\n",
    "#Step 1 - Get the variables\n",
    "X = Q3Q4_grp.unstack().index.values.reshape(-1,1)\n",
    "Yc = Q3Q4_grp['start'].unstack().Casual\n",
    "Ym = Q3Q4_grp['start'].unstack().Member\n",
    "\n",
    "#Step 2 - Train the model you want\n",
    "lin_modelc = LinearRegression().fit(X,Yc)\n",
    "lin_modelm = LinearRegression().fit(X,Ym)\n",
    "\n",
    "#Step 3 - Test the model by plotting the regression line\n",
    "f, ax = plt.subplots(figsize=(20,10))\n",
    "\n",
    "ax.set(title='Number of bikeshare rides by month in Q3/Q4 of 2016',\\\n",
    "      xticks=x_pos+width/4,\\\n",
    "      xticklabels=Q3Q4_grp.unstack().index,\\\n",
    "      xlabel='Months July to December',\\\n",
    "      ylabel='Total number of riders')\n",
    "\n",
    "ax.scatter(X,Yc,label='Casual')\n",
    "ax.plot(X,lin_modelc.predict(X),color='r')\n",
    "ax.scatter(X,Ym,label='Member',color='green')\n",
    "ax.plot(X,lin_modelm.predict(X),color='b');"
   ]
  },
  {
   "cell_type": "markdown",
   "metadata": {},
   "source": [
    "# Q2: Bikeshare Members vs Casual Users\n"
   ]
  },
  {
   "cell_type": "code",
   "execution_count": 44,
   "metadata": {},
   "outputs": [],
   "source": [
    "TObike.start = pd.to_datetime(TObike.start)\n",
    "TObike.end = pd.to_datetime(TObike.end)"
   ]
  },
  {
   "cell_type": "code",
   "execution_count": 45,
   "metadata": {},
   "outputs": [],
   "source": [
    "TObike.start = TObike.start.dt.date\n",
    "TObike.end = TObike.end.dt.date"
   ]
  },
  {
   "cell_type": "code",
   "execution_count": 47,
   "metadata": {},
   "outputs": [],
   "source": [
    "TObike_grouped = TObike.groupby('user_type')\n",
    "TObike_Member = TObike_grouped.get_group('Member')\n",
    "TObike_Casual = TObike_grouped.get_group('Casual')"
   ]
  },
  {
   "cell_type": "code",
   "execution_count": 48,
   "metadata": {},
   "outputs": [],
   "source": [
    "TObike_Member_CountByDate = TObike_Member['start'].value_counts()"
   ]
  },
  {
   "cell_type": "code",
   "execution_count": 49,
   "metadata": {},
   "outputs": [],
   "source": [
    "TObike_Casual_CountByDate = TObike_Casual['end'].value_counts()"
   ]
  },
  {
   "cell_type": "code",
   "execution_count": 50,
   "metadata": {},
   "outputs": [
    {
     "data": {
      "text/plain": [
       "2016-09-20    4199\n",
       "2016-09-22    4191\n",
       "2016-10-04    4169\n",
       "2016-10-05    4141\n",
       "2016-09-15    4121\n",
       "2016-09-14    4104\n",
       "2016-09-16    4102\n",
       "2016-09-28    4068\n",
       "2016-09-21    4058\n",
       "2016-10-06    4047\n",
       "2016-09-13    4011\n",
       "2016-12-10    3976\n",
       "2016-10-18    3961\n",
       "2016-09-19    3905\n",
       "2016-10-19    3903\n",
       "2016-09-27    3877\n",
       "2016-09-09    3864\n",
       "2016-10-14    3738\n",
       "2016-10-07    3732\n",
       "2016-09-30    3729\n",
       "2016-09-12    3703\n",
       "2016-10-13    3680\n",
       "2016-09-23    3601\n",
       "2016-10-03    3543\n",
       "2016-08-17    3436\n",
       "2016-08-24    3425\n",
       "2016-08-30    3364\n",
       "2016-08-31    3364\n",
       "2016-08-23    3364\n",
       "2016-08-18    3362\n",
       "              ... \n",
       "2016-07-09    1336\n",
       "2016-07-10    1332\n",
       "2016-10-09    1289\n",
       "2016-11-27    1249\n",
       "2016-12-23    1168\n",
       "2016-10-10    1140\n",
       "2016-12-04    1133\n",
       "2016-12-21    1126\n",
       "2016-07-31    1112\n",
       "2016-10-12    1111\n",
       "2016-12-22    1078\n",
       "2016-12-20     968\n",
       "2016-07-03     928\n",
       "2016-07-02     921\n",
       "2016-11-20     917\n",
       "2016-12-12     902\n",
       "2016-07-01     825\n",
       "2016-12-15     821\n",
       "2016-12-19     782\n",
       "2016-12-30     768\n",
       "2016-12-16     768\n",
       "2016-12-28     757\n",
       "2016-12-29     617\n",
       "2016-11-12     615\n",
       "2016-12-31     530\n",
       "2016-12-24     480\n",
       "2016-12-27     450\n",
       "2016-12-18     341\n",
       "2016-12-17     329\n",
       "2016-12-26     212\n",
       "Name: start, Length: 183, dtype: int64"
      ]
     },
     "execution_count": 50,
     "metadata": {},
     "output_type": "execute_result"
    }
   ],
   "source": [
    "TObike_Member_CountByDate = TObike_Member_CountByDate[:-1]\n",
    "TObike_Member_CountByDate"
   ]
  },
  {
   "cell_type": "code",
   "execution_count": 51,
   "metadata": {},
   "outputs": [
    {
     "data": {
      "text/plain": [
       "2016-09-04    3052\n",
       "2016-09-05    2554\n",
       "2016-08-07    2443\n",
       "2016-08-06    2334\n",
       "2016-08-21    2286\n",
       "2016-08-20    2271\n",
       "2016-07-17    2260\n",
       "2016-07-30    2260\n",
       "2016-07-16    2254\n",
       "2016-09-03    2240\n",
       "2016-08-27    2236\n",
       "2016-08-01    2195\n",
       "2016-08-28    1932\n",
       "2016-07-10    1898\n",
       "2016-07-24    1856\n",
       "2016-08-14    1712\n",
       "2016-07-23    1701\n",
       "2016-09-18    1668\n",
       "2016-09-24    1666\n",
       "2016-07-03    1627\n",
       "2016-08-08    1623\n",
       "2016-07-02    1552\n",
       "2016-09-25    1542\n",
       "2016-07-09    1506\n",
       "2016-08-02    1486\n",
       "2016-09-11    1462\n",
       "2016-07-31    1437\n",
       "2016-08-24    1433\n",
       "2016-08-23    1430\n",
       "2016-08-15    1425\n",
       "              ... \n",
       "2016-12-07      68\n",
       "2016-10-27      68\n",
       "2016-11-22      66\n",
       "2016-12-05      61\n",
       "2016-12-09      60\n",
       "2016-11-23      56\n",
       "2016-12-31      51\n",
       "2016-12-08      50\n",
       "2016-10-12      48\n",
       "2016-12-30      46\n",
       "2016-12-24      44\n",
       "2016-12-14      38\n",
       "2016-12-29      37\n",
       "2016-11-21      37\n",
       "2016-12-22      35\n",
       "2016-11-12      34\n",
       "2016-12-23      30\n",
       "2016-12-28      27\n",
       "2016-12-19      25\n",
       "2016-12-13      22\n",
       "2016-12-21      21\n",
       "2016-12-27      18\n",
       "2016-11-24      18\n",
       "2016-12-26      16\n",
       "2016-12-20      16\n",
       "2016-12-15      16\n",
       "2016-12-17      12\n",
       "2016-12-12      12\n",
       "2016-12-16      12\n",
       "2016-12-18       9\n",
       "Name: end, Length: 184, dtype: int64"
      ]
     },
     "execution_count": 51,
     "metadata": {},
     "output_type": "execute_result"
    }
   ],
   "source": [
    "TObike_Casual_CountByDate = TObike_Casual_CountByDate[:-1]\n",
    "TObike_Casual_CountByDate"
   ]
  },
  {
   "cell_type": "code",
   "execution_count": 52,
   "metadata": {},
   "outputs": [
    {
     "data": {
      "text/plain": [
       "<matplotlib.axes._subplots.AxesSubplot at 0x1a33600fd0>"
      ]
     },
     "execution_count": 52,
     "metadata": {},
     "output_type": "execute_result"
    },
    {
     "data": {
      "image/png": "[encoded data removed]",
      "text/plain": [
       "<Figure size 576x396 with 1 Axes>"
      ]
     },
     "metadata": {},
     "output_type": "display_data"
    }
   ],
   "source": [
    "TObike_Member_CountByDate.plot(title = 'Member')"
   ]
  },
  {
   "cell_type": "code",
   "execution_count": 53,
   "metadata": {},
   "outputs": [
    {
     "data": {
      "text/plain": [
       "<matplotlib.axes._subplots.AxesSubplot at 0x1a336008d0>"
      ]
     },
     "execution_count": 53,
     "metadata": {},
     "output_type": "execute_result"
    },
    {
     "data": {
      "image/png": "[encoded data removed]",
      "text/plain": [
       "<Figure size 576x396 with 1 Axes>"
      ]
     },
     "metadata": {},
     "output_type": "display_data"
    }
   ],
   "source": [
    "TObike_Casual_CountByDate.plot(title = 'Casual')"
   ]
  },
  {
   "cell_type": "code",
   "execution_count": 54,
   "metadata": {},
   "outputs": [],
   "source": [
    "time = TObike[['duration','user_type']]\n",
    "time_group = time.groupby('user_type')"
   ]
  },
  {
   "cell_type": "code",
   "execution_count": 55,
   "metadata": {},
   "outputs": [],
   "source": [
    "time_Member = time_group.get_group('Member')\n",
    "time_Casual = time_group.get_group('Casual')"
   ]
  },
  {
   "cell_type": "code",
   "execution_count": 56,
   "metadata": {},
   "outputs": [
    {
     "data": {
      "text/plain": [
       "<bound method Series.sort_values of 0          714\n",
       "1          417\n",
       "2         1904\n",
       "3          784\n",
       "4          443\n",
       "5          765\n",
       "6          949\n",
       "7          213\n",
       "8          658\n",
       "9         1163\n",
       "10         718\n",
       "11         694\n",
       "12         501\n",
       "13         363\n",
       "14         707\n",
       "15         317\n",
       "16         609\n",
       "17         644\n",
       "18        1103\n",
       "19         633\n",
       "20        1303\n",
       "21         658\n",
       "22         914\n",
       "23         595\n",
       "24        1116\n",
       "25         731\n",
       "26         713\n",
       "27        1309\n",
       "28        1234\n",
       "29        1122\n",
       "          ... \n",
       "217535     775\n",
       "217536     925\n",
       "217537     637\n",
       "217540     764\n",
       "217541     128\n",
       "217542     673\n",
       "217543     721\n",
       "217544     344\n",
       "217545     304\n",
       "217546    2520\n",
       "217547     781\n",
       "217548     499\n",
       "217550     332\n",
       "217551    1177\n",
       "217552     207\n",
       "217553     689\n",
       "217554     654\n",
       "217555     313\n",
       "217556     503\n",
       "217557     132\n",
       "217558     422\n",
       "217559     420\n",
       "217561    1468\n",
       "217562    1105\n",
       "217563     410\n",
       "217564     824\n",
       "217565     478\n",
       "217566     271\n",
       "217567    1253\n",
       "217568     478\n",
       "Name: duration, Length: 436692, dtype: int64>"
      ]
     },
     "execution_count": 56,
     "metadata": {},
     "output_type": "execute_result"
    }
   ],
   "source": [
    "time_Member.duration.sort_values"
   ]
  },
  {
   "cell_type": "code",
   "execution_count": 57,
   "metadata": {},
   "outputs": [
    {
     "data": {
      "text/html": [
       "<div>\n",
       "<style scoped>\n",
       "    .dataframe tbody tr th:only-of-type {\n",
       "        vertical-align: middle;\n",
       "    }\n",
       "\n",
       "    .dataframe tbody tr th {\n",
       "        vertical-align: top;\n",
       "    }\n",
       "\n",
       "    .dataframe thead th {\n",
       "        text-align: right;\n",
       "    }\n",
       "</style>\n",
       "<table border=\"1\" class=\"dataframe\">\n",
       "  <thead>\n",
       "    <tr style=\"text-align: right;\">\n",
       "      <th></th>\n",
       "      <th>duration</th>\n",
       "    </tr>\n",
       "    <tr>\n",
       "      <th>user_type</th>\n",
       "      <th></th>\n",
       "    </tr>\n",
       "  </thead>\n",
       "  <tbody>\n",
       "    <tr>\n",
       "      <th>Casual</th>\n",
       "      <td>1748.612115</td>\n",
       "    </tr>\n",
       "    <tr>\n",
       "      <th>Member</th>\n",
       "      <td>676.042410</td>\n",
       "    </tr>\n",
       "  </tbody>\n",
       "</table>\n",
       "</div>"
      ],
      "text/plain": [
       "              duration\n",
       "user_type             \n",
       "Casual     1748.612115\n",
       "Member      676.042410"
      ]
     },
     "execution_count": 57,
     "metadata": {},
     "output_type": "execute_result"
    }
   ],
   "source": [
    "time_group.mean()"
   ]
  },
  {
   "cell_type": "code",
   "execution_count": 58,
   "metadata": {},
   "outputs": [
    {
     "data": {
      "text/plain": [
       "user_type\n",
       "Casual    AxesSubplot(0.125,0.125;0.775x0.755)\n",
       "Member    AxesSubplot(0.125,0.125;0.775x0.755)\n",
       "Name: duration, dtype: object"
      ]
     },
     "execution_count": 58,
     "metadata": {},
     "output_type": "execute_result"
    },
    {
     "data": {
      "image/png": "[encoded data removed]",
      "text/plain": [
       "<Figure size 576x396 with 1 Axes>"
      ]
     },
     "metadata": {},
     "output_type": "display_data"
    }
   ],
   "source": [
    "time.groupby('user_type').duration.plot(kind = 'kde', legend = 'reverse', title = 'Duration by User Type',logx = True)"
   ]
  },
  {
   "cell_type": "code",
   "execution_count": 61,
   "metadata": {},
   "outputs": [],
   "source": [
    "TObike.start = pd.to_datetime(TObike.start)"
   ]
  },
  {
   "cell_type": "code",
   "execution_count": 62,
   "metadata": {},
   "outputs": [],
   "source": [
    "TObike['weekday'] = TObike.start.dt.weekday_name"
   ]
  },
  {
   "cell_type": "code",
   "execution_count": 63,
   "metadata": {},
   "outputs": [],
   "source": [
    "TObike_weekday = TObike[['weekday','user_type']]"
   ]
  },
  {
   "cell_type": "code",
   "execution_count": 64,
   "metadata": {},
   "outputs": [],
   "source": [
    "TObike_weekday_groupby  = TObike_weekday.groupby('user_type')"
   ]
  },
  {
   "cell_type": "code",
   "execution_count": 65,
   "metadata": {},
   "outputs": [],
   "source": [
    "TObike_weekday_member = TObike_weekday_groupby.get_group('Member')\n",
    "TObike_weekday_casual = TObike_weekday_groupby.get_group('Casual')"
   ]
  },
  {
   "cell_type": "code",
   "execution_count": 66,
   "metadata": {},
   "outputs": [
    {
     "data": {
      "text/plain": [
       "<matplotlib.axes._subplots.AxesSubplot at 0x1a3d9f65f8>"
      ]
     },
     "execution_count": 66,
     "metadata": {},
     "output_type": "execute_result"
    },
    {
     "data": {
      "image/png": "[encoded data removed]",
      "text/plain": [
       "<Figure size 576x396 with 1 Axes>"
      ]
     },
     "metadata": {},
     "output_type": "display_data"
    }
   ],
   "source": [
    "TObike_weekday_member['weekday'].value_counts().plot(kind = 'bar', title = 'Member')"
   ]
  },
  {
   "cell_type": "code",
   "execution_count": 67,
   "metadata": {},
   "outputs": [
    {
     "data": {
      "text/plain": [
       "<matplotlib.axes._subplots.AxesSubplot at 0x1277d8c50>"
      ]
     },
     "execution_count": 67,
     "metadata": {},
     "output_type": "execute_result"
    },
    {
     "data": {
      "image/png": "[encoded data removed]",
      "text/plain": [
       "<Figure size 576x396 with 1 Axes>"
      ]
     },
     "metadata": {},
     "output_type": "display_data"
    }
   ],
   "source": [
    "TObike_weekday_casual['weekday'].value_counts().plot(kind = 'bar', title = 'Casual')"
   ]
  },
  {
   "cell_type": "markdown",
   "metadata": {},
   "source": [
    "# Q3: Frequency Distribution of Bike Rides by Time of Day \n"
   ]
  },
  {
   "cell_type": "code",
   "execution_count": 72,
   "metadata": {},
   "outputs": [],
   "source": [
    "TObike['trip_hour'] = TObike.start.dt.hour\n",
    "\n",
    "hour_analysis = TObike.groupby('trip_hour')['duration'].agg(['sum', 'mean', 'count']).reset_index()\n",
    "\n",
    "#toBike.tail(20)"
   ]
  },
  {
   "cell_type": "code",
   "execution_count": 73,
   "metadata": {},
   "outputs": [],
   "source": [
    "import matplotlib as mpl\n",
    "import matplotlib.pyplot as plt\n",
    "plt.style.use(style='ggplot')\n",
    "#plt.rcParams['figure.figsize'] = (30, 20)\n",
    "%matplotlib inline"
   ]
  },
  {
   "cell_type": "code",
   "execution_count": 74,
   "metadata": {},
   "outputs": [
    {
     "data": {
      "image/png": "[encoded data removed]",
      "text/plain": [
       "<Figure size 720x360 with 1 Axes>"
      ]
     },
     "metadata": {
      "needs_background": "light"
     },
     "output_type": "display_data"
    },
    {
     "data": {
      "image/png": "[encoded data removed]",
      "text/plain": [
       "<Figure size 720x360 with 1 Axes>"
      ]
     },
     "metadata": {
      "needs_background": "light"
     },
     "output_type": "display_data"
    }
   ],
   "source": [
    "hour_analysis.plot(x='trip_hour', y='count', kind='bar', legend=False, color = 'g', \n",
    "                  rot=0, figsize=(10, 5), title = 'Number of trips in hour of day');\n",
    "\n",
    "hour_analysis.plot(x='trip_hour', y='mean', kind='bar', legend=False, color = 'g', \n",
    "                  rot=0, figsize=(10, 5), title = 'Average trip duration in hour of day');"
   ]
  },
  {
   "cell_type": "code",
   "execution_count": 75,
   "metadata": {},
   "outputs": [
    {
     "data": {
      "image/png": "[encoded data removed]",
      "text/plain": [
       "<Figure size 720x504 with 1 Axes>"
      ]
     },
     "metadata": {
      "needs_background": "light"
     },
     "output_type": "display_data"
    }
   ],
   "source": [
    "type_hour = pd.crosstab(TObike.trip_hour, TObike.user_type, values=TObike.duration, aggfunc=\"mean\")\n",
    "type_hour.plot(kind='bar', stacked=False, rot = 0, figsize=(10, 7), title = 'Average trip duration in hour of day by use type');"
   ]
  },
  {
   "cell_type": "markdown",
   "metadata": {},
   "source": [
    "# Q4: Frequency Distribution of Bike Rides by Day"
   ]
  },
  {
   "cell_type": "code",
   "execution_count": 76,
   "metadata": {},
   "outputs": [],
   "source": [
    "import pandas as pd\n",
    "import matplotlib as mpl\n",
    "import matplotlib.pyplot as plt\n",
    "import datetime\n",
    "from dateutil.parser import parse"
   ]
  },
  {
   "cell_type": "code",
   "execution_count": 90,
   "metadata": {},
   "outputs": [],
   "source": [
    "plt.style.use(style='ggplot')"
   ]
  },
  {
   "cell_type": "code",
   "execution_count": 116,
   "metadata": {},
   "outputs": [],
   "source": [
    "datesQ3 = t2016Q3['start']\n",
    "daysQ3 = []\n",
    "datesQ4 = t2016Q4['start']\n",
    "daysQ4 = []"
   ]
  },
  {
   "cell_type": "code",
   "execution_count": 118,
   "metadata": {},
   "outputs": [
    {
     "data": {
      "text/plain": [
       "<matplotlib.axes._subplots.AxesSubplot at 0x1a3ef8e4a8>"
      ]
     },
     "execution_count": 118,
     "metadata": {},
     "output_type": "execute_result"
    },
    {
     "data": {
      "image/png": "[encoded data removed]",
      "text/plain": [
       "<Figure size 720x360 with 1 Axes>"
      ]
     },
     "metadata": {
      "needs_background": "light"
     },
     "output_type": "display_data"
    }
   ],
   "source": [
    "\n",
    "for i in range(len(datesQ3)):\n",
    "    day = datesQ3[i].strftime(\"%A\")\n",
    "    daysQ3.append(day)\n",
    "    \n",
    "for i in range(len(datesQ4)):\n",
    "    if type(datesQ4[i]) == str:\n",
    "        datesQ4[i] = datetime.datetime.strptime(str(datesQ4[i]), '%d/%m/%Y %H:%M')\n",
    "    day = datesQ4[i].strftime(\"%A\")\n",
    "    daysQ4.append(day)\n",
    "\n",
    "days_dfQ3 = pd.Series(daysQ3)\n",
    "day_countQ3 = days_dfQ3.value_counts()\n",
    "day_countQ3.plot(x='Day', y='Rides', kind='bar', legend=False, color = 'g', \n",
    "                  rot=0, figsize=(10, 5), title = 'Number of Rides Per Day for Q3')"
   ]
  },
  {
   "cell_type": "code",
   "execution_count": 119,
   "metadata": {},
   "outputs": [
    {
     "data": {
      "text/plain": [
       "<matplotlib.axes._subplots.AxesSubplot at 0x1a46fc4e10>"
      ]
     },
     "execution_count": 119,
     "metadata": {},
     "output_type": "execute_result"
    },
    {
     "data": {
      "image/png": "[encoded data removed]",
      "text/plain": [
       "<Figure size 720x360 with 1 Axes>"
      ]
     },
     "metadata": {
      "needs_background": "light"
     },
     "output_type": "display_data"
    }
   ],
   "source": [
    "days_dfQ4 = pd.Series(daysQ4)\n",
    "day_countQ4 = days_dfQ4.value_counts()\n",
    "day_countQ4.plot(x='Day', y='Rides', kind='bar', legend=False, color = 'g', \n",
    "                  rot=0, figsize=(10, 5), title = 'Number of Rides Per Day for Q4')"
   ]
  },
  {
   "cell_type": "code",
   "execution_count": 120,
   "metadata": {},
   "outputs": [
    {
     "data": {
      "text/plain": [
       "<matplotlib.axes._subplots.AxesSubplot at 0x1a3f1eb3c8>"
      ]
     },
     "execution_count": 120,
     "metadata": {},
     "output_type": "execute_result"
    },
    {
     "data": {
      "image/png": "[encoded data removed]",
      "text/plain": [
       "<Figure size 720x360 with 1 Axes>"
      ]
     },
     "metadata": {
      "needs_background": "light"
     },
     "output_type": "display_data"
    }
   ],
   "source": [
    "days_all= days_dfQ3.append(days_dfQ4)\n",
    "day_count = days_all.value_counts()\n",
    "day_count.plot(x='Day', y='Rides', kind='bar', legend=False, color = 'g', \n",
    "                  rot=0, figsize=(10, 5), title = 'Number of Rides Per Day for Q3 and Q4')"
   ]
  }
 ],
 "metadata": {
  "kernelspec": {
   "display_name": "Python 3",
   "language": "python",
   "name": "python3"
  },
  "language_info": {
   "codemirror_mode": {
    "name": "ipython",
    "version": 3
   },
   "file_extension": ".py",
   "mimetype": "text/x-python",
   "name": "python",
   "nbconvert_exporter": "python",
   "pygments_lexer": "ipython3",
   "version": "3.7.1"
  }
 },
 "nbformat": 4,
 "nbformat_minor": 2
}
